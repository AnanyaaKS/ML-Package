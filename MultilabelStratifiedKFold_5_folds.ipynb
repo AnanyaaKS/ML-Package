{
  "cells": [
    {
      "cell_type": "markdown",
      "metadata": {
        "id": "view-in-github",
        "colab_type": "text"
      },
      "source": [
        "<a href=\"https://colab.research.google.com/github/AnanyaaKS/ML-Package/blob/main/MultilabelStratifiedKFold_5_folds.ipynb\" target=\"_parent\"><img src=\"https://colab.research.google.com/assets/colab-badge.svg\" alt=\"Open In Colab\"/></a>"
      ]
    },
    {
      "cell_type": "code",
      "execution_count": null,
      "metadata": {
        "colab": {
          "base_uri": "https://localhost:8080/",
          "height": 252
        },
        "id": "dCtrrsrPiKeI",
        "outputId": "d832409c-ff89-4406-bae7-77b4fbf77e06"
      },
      "outputs": [
        {
          "output_type": "display_data",
          "data": {
            "text/plain": [
              "<IPython.core.display.HTML object>"
            ],
            "text/html": [
              "\n",
              "     <input type=\"file\" id=\"files-5bd8ea7c-3d6a-4537-9637-5c0b2dda6247\" name=\"files[]\" multiple disabled\n",
              "        style=\"border:none\" />\n",
              "     <output id=\"result-5bd8ea7c-3d6a-4537-9637-5c0b2dda6247\">\n",
              "      Upload widget is only available when the cell has been executed in the\n",
              "      current browser session. Please rerun this cell to enable.\n",
              "      </output>\n",
              "      <script>// Copyright 2017 Google LLC\n",
              "//\n",
              "// Licensed under the Apache License, Version 2.0 (the \"License\");\n",
              "// you may not use this file except in compliance with the License.\n",
              "// You may obtain a copy of the License at\n",
              "//\n",
              "//      http://www.apache.org/licenses/LICENSE-2.0\n",
              "//\n",
              "// Unless required by applicable law or agreed to in writing, software\n",
              "// distributed under the License is distributed on an \"AS IS\" BASIS,\n",
              "// WITHOUT WARRANTIES OR CONDITIONS OF ANY KIND, either express or implied.\n",
              "// See the License for the specific language governing permissions and\n",
              "// limitations under the License.\n",
              "\n",
              "/**\n",
              " * @fileoverview Helpers for google.colab Python module.\n",
              " */\n",
              "(function(scope) {\n",
              "function span(text, styleAttributes = {}) {\n",
              "  const element = document.createElement('span');\n",
              "  element.textContent = text;\n",
              "  for (const key of Object.keys(styleAttributes)) {\n",
              "    element.style[key] = styleAttributes[key];\n",
              "  }\n",
              "  return element;\n",
              "}\n",
              "\n",
              "// Max number of bytes which will be uploaded at a time.\n",
              "const MAX_PAYLOAD_SIZE = 100 * 1024;\n",
              "\n",
              "function _uploadFiles(inputId, outputId) {\n",
              "  const steps = uploadFilesStep(inputId, outputId);\n",
              "  const outputElement = document.getElementById(outputId);\n",
              "  // Cache steps on the outputElement to make it available for the next call\n",
              "  // to uploadFilesContinue from Python.\n",
              "  outputElement.steps = steps;\n",
              "\n",
              "  return _uploadFilesContinue(outputId);\n",
              "}\n",
              "\n",
              "// This is roughly an async generator (not supported in the browser yet),\n",
              "// where there are multiple asynchronous steps and the Python side is going\n",
              "// to poll for completion of each step.\n",
              "// This uses a Promise to block the python side on completion of each step,\n",
              "// then passes the result of the previous step as the input to the next step.\n",
              "function _uploadFilesContinue(outputId) {\n",
              "  const outputElement = document.getElementById(outputId);\n",
              "  const steps = outputElement.steps;\n",
              "\n",
              "  const next = steps.next(outputElement.lastPromiseValue);\n",
              "  return Promise.resolve(next.value.promise).then((value) => {\n",
              "    // Cache the last promise value to make it available to the next\n",
              "    // step of the generator.\n",
              "    outputElement.lastPromiseValue = value;\n",
              "    return next.value.response;\n",
              "  });\n",
              "}\n",
              "\n",
              "/**\n",
              " * Generator function which is called between each async step of the upload\n",
              " * process.\n",
              " * @param {string} inputId Element ID of the input file picker element.\n",
              " * @param {string} outputId Element ID of the output display.\n",
              " * @return {!Iterable<!Object>} Iterable of next steps.\n",
              " */\n",
              "function* uploadFilesStep(inputId, outputId) {\n",
              "  const inputElement = document.getElementById(inputId);\n",
              "  inputElement.disabled = false;\n",
              "\n",
              "  const outputElement = document.getElementById(outputId);\n",
              "  outputElement.innerHTML = '';\n",
              "\n",
              "  const pickedPromise = new Promise((resolve) => {\n",
              "    inputElement.addEventListener('change', (e) => {\n",
              "      resolve(e.target.files);\n",
              "    });\n",
              "  });\n",
              "\n",
              "  const cancel = document.createElement('button');\n",
              "  inputElement.parentElement.appendChild(cancel);\n",
              "  cancel.textContent = 'Cancel upload';\n",
              "  const cancelPromise = new Promise((resolve) => {\n",
              "    cancel.onclick = () => {\n",
              "      resolve(null);\n",
              "    };\n",
              "  });\n",
              "\n",
              "  // Wait for the user to pick the files.\n",
              "  const files = yield {\n",
              "    promise: Promise.race([pickedPromise, cancelPromise]),\n",
              "    response: {\n",
              "      action: 'starting',\n",
              "    }\n",
              "  };\n",
              "\n",
              "  cancel.remove();\n",
              "\n",
              "  // Disable the input element since further picks are not allowed.\n",
              "  inputElement.disabled = true;\n",
              "\n",
              "  if (!files) {\n",
              "    return {\n",
              "      response: {\n",
              "        action: 'complete',\n",
              "      }\n",
              "    };\n",
              "  }\n",
              "\n",
              "  for (const file of files) {\n",
              "    const li = document.createElement('li');\n",
              "    li.append(span(file.name, {fontWeight: 'bold'}));\n",
              "    li.append(span(\n",
              "        `(${file.type || 'n/a'}) - ${file.size} bytes, ` +\n",
              "        `last modified: ${\n",
              "            file.lastModifiedDate ? file.lastModifiedDate.toLocaleDateString() :\n",
              "                                    'n/a'} - `));\n",
              "    const percent = span('0% done');\n",
              "    li.appendChild(percent);\n",
              "\n",
              "    outputElement.appendChild(li);\n",
              "\n",
              "    const fileDataPromise = new Promise((resolve) => {\n",
              "      const reader = new FileReader();\n",
              "      reader.onload = (e) => {\n",
              "        resolve(e.target.result);\n",
              "      };\n",
              "      reader.readAsArrayBuffer(file);\n",
              "    });\n",
              "    // Wait for the data to be ready.\n",
              "    let fileData = yield {\n",
              "      promise: fileDataPromise,\n",
              "      response: {\n",
              "        action: 'continue',\n",
              "      }\n",
              "    };\n",
              "\n",
              "    // Use a chunked sending to avoid message size limits. See b/62115660.\n",
              "    let position = 0;\n",
              "    do {\n",
              "      const length = Math.min(fileData.byteLength - position, MAX_PAYLOAD_SIZE);\n",
              "      const chunk = new Uint8Array(fileData, position, length);\n",
              "      position += length;\n",
              "\n",
              "      const base64 = btoa(String.fromCharCode.apply(null, chunk));\n",
              "      yield {\n",
              "        response: {\n",
              "          action: 'append',\n",
              "          file: file.name,\n",
              "          data: base64,\n",
              "        },\n",
              "      };\n",
              "\n",
              "      let percentDone = fileData.byteLength === 0 ?\n",
              "          100 :\n",
              "          Math.round((position / fileData.byteLength) * 100);\n",
              "      percent.textContent = `${percentDone}% done`;\n",
              "\n",
              "    } while (position < fileData.byteLength);\n",
              "  }\n",
              "\n",
              "  // All done.\n",
              "  yield {\n",
              "    response: {\n",
              "      action: 'complete',\n",
              "    }\n",
              "  };\n",
              "}\n",
              "\n",
              "scope.google = scope.google || {};\n",
              "scope.google.colab = scope.google.colab || {};\n",
              "scope.google.colab._files = {\n",
              "  _uploadFiles,\n",
              "  _uploadFilesContinue,\n",
              "};\n",
              "})(self);\n",
              "</script> "
            ]
          },
          "metadata": {}
        },
        {
          "output_type": "stream",
          "name": "stdout",
          "text": [
            "Saving sample_submission.csv to sample_submission.csv\n",
            "Saving test_features.csv to test_features.csv\n",
            "Saving train_drug.csv to train_drug.csv\n",
            "Saving train_features.csv to train_features.csv\n",
            "Saving train_targets_nonscored.csv to train_targets_nonscored.csv\n",
            "Saving train_targets_scored.csv to train_targets_scored.csv\n"
          ]
        }
      ],
      "source": [
        "from google.colab import files\n",
        "uploaded = files.upload()\n"
      ]
    },
    {
      "cell_type": "code",
      "execution_count": null,
      "metadata": {
        "id": "qaQSPmkKXx1w",
        "colab": {
          "base_uri": "https://localhost:8080/"
        },
        "outputId": "6d1691fb-e6c1-4ac8-8345-38fd1c21cb36"
      },
      "outputs": [
        {
          "output_type": "stream",
          "name": "stdout",
          "text": [
            "Requirement already satisfied: scikit-multilearn in /usr/local/lib/python3.10/dist-packages (0.2.0)\n",
            "Requirement already satisfied: category_encoders in /usr/local/lib/python3.10/dist-packages (2.6.3)\n",
            "Requirement already satisfied: numpy>=1.14.0 in /usr/local/lib/python3.10/dist-packages (from category_encoders) (1.23.5)\n",
            "Requirement already satisfied: scikit-learn>=0.20.0 in /usr/local/lib/python3.10/dist-packages (from category_encoders) (1.2.2)\n",
            "Requirement already satisfied: scipy>=1.0.0 in /usr/local/lib/python3.10/dist-packages (from category_encoders) (1.11.3)\n",
            "Requirement already satisfied: statsmodels>=0.9.0 in /usr/local/lib/python3.10/dist-packages (from category_encoders) (0.14.0)\n",
            "Requirement already satisfied: pandas>=1.0.5 in /usr/local/lib/python3.10/dist-packages (from category_encoders) (1.5.3)\n",
            "Requirement already satisfied: patsy>=0.5.1 in /usr/local/lib/python3.10/dist-packages (from category_encoders) (0.5.3)\n",
            "Requirement already satisfied: python-dateutil>=2.8.1 in /usr/local/lib/python3.10/dist-packages (from pandas>=1.0.5->category_encoders) (2.8.2)\n",
            "Requirement already satisfied: pytz>=2020.1 in /usr/local/lib/python3.10/dist-packages (from pandas>=1.0.5->category_encoders) (2023.3.post1)\n",
            "Requirement already satisfied: six in /usr/local/lib/python3.10/dist-packages (from patsy>=0.5.1->category_encoders) (1.16.0)\n",
            "Requirement already satisfied: joblib>=1.1.1 in /usr/local/lib/python3.10/dist-packages (from scikit-learn>=0.20.0->category_encoders) (1.3.2)\n",
            "Requirement already satisfied: threadpoolctl>=2.0.0 in /usr/local/lib/python3.10/dist-packages (from scikit-learn>=0.20.0->category_encoders) (3.2.0)\n",
            "Requirement already satisfied: packaging>=21.3 in /usr/local/lib/python3.10/dist-packages (from statsmodels>=0.9.0->category_encoders) (23.2)\n"
          ]
        }
      ],
      "source": [
        "!pip install scikit-multilearn\n",
        "!pip install category_encoders\n"
      ]
    },
    {
      "cell_type": "code",
      "execution_count": null,
      "metadata": {
        "colab": {
          "base_uri": "https://localhost:8080/"
        },
        "id": "X7aiKGRsejPs",
        "outputId": "ce98bb37-1f3d-45c6-b721-3933fc64e63a"
      },
      "outputs": [
        {
          "output_type": "stream",
          "name": "stdout",
          "text": [
            "Collecting iterative-stratification\n",
            "  Downloading iterative_stratification-0.1.7-py3-none-any.whl (8.5 kB)\n",
            "Requirement already satisfied: numpy in /usr/local/lib/python3.10/dist-packages (from iterative-stratification) (1.23.5)\n",
            "Requirement already satisfied: scipy in /usr/local/lib/python3.10/dist-packages (from iterative-stratification) (1.11.3)\n",
            "Requirement already satisfied: scikit-learn in /usr/local/lib/python3.10/dist-packages (from iterative-stratification) (1.2.2)\n",
            "Requirement already satisfied: joblib>=1.1.1 in /usr/local/lib/python3.10/dist-packages (from scikit-learn->iterative-stratification) (1.3.2)\n",
            "Requirement already satisfied: threadpoolctl>=2.0.0 in /usr/local/lib/python3.10/dist-packages (from scikit-learn->iterative-stratification) (3.2.0)\n",
            "Installing collected packages: iterative-stratification\n",
            "Successfully installed iterative-stratification-0.1.7\n"
          ]
        }
      ],
      "source": [
        "!pip install iterative-stratification\n"
      ]
    },
    {
      "cell_type": "code",
      "execution_count": null,
      "metadata": {
        "id": "-MeU4I52e--1"
      },
      "outputs": [],
      "source": [
        "from iterstrat.ml_stratifiers import MultilabelStratifiedKFold\n"
      ]
    },
    {
      "cell_type": "code",
      "execution_count": null,
      "metadata": {
        "id": "OPuTkqPVfIC7"
      },
      "outputs": [],
      "source": [
        "import os\n",
        "import gc\n",
        "import random\n",
        "import math\n",
        "import time\n",
        "\n",
        "import numpy as np\n",
        "import pandas as pd\n",
        "\n",
        "from sklearn.model_selection import StratifiedKFold, GroupKFold, KFold\n",
        "from sklearn.metrics import log_loss\n",
        "\n",
        "import category_encoders as ce\n",
        "\n",
        "import torch\n",
        "import torch.nn as nn\n",
        "from torch.utils.data import DataLoader, Dataset\n",
        "import torch.optim as optim\n",
        "import torch.nn.functional as F\n",
        "\n",
        "import warnings\n",
        "warnings.filterwarnings(\"ignore\")\n",
        "\n",
        "device = torch.device('cuda' if torch.cuda.is_available() else 'cpu')"
      ]
    },
    {
      "cell_type": "code",
      "execution_count": null,
      "metadata": {
        "id": "DANec1LofLQC"
      },
      "outputs": [],
      "source": [
        "def get_logger(filename='log'):\n",
        "    from logging import getLogger, INFO, StreamHandler, FileHandler, Formatter\n",
        "    logger = getLogger(__name__)\n",
        "    logger.setLevel(INFO)\n",
        "    handler1 = StreamHandler()\n",
        "    handler1.setFormatter(Formatter(\"%(message)s\"))\n",
        "    handler2 = FileHandler(filename=f\"{filename}.log\")\n",
        "    handler2.setFormatter(Formatter(\"%(message)s\"))\n",
        "    logger.addHandler(handler1)\n",
        "    logger.addHandler(handler2)\n",
        "    return logger\n",
        "\n",
        "logger = get_logger()\n",
        "\n",
        "\n",
        "def seed_everything(seed=42):\n",
        "    random.seed(seed)\n",
        "    os.environ['PYTHONHASHSEED'] = str(seed)\n",
        "    np.random.seed(seed)\n",
        "    torch.manual_seed(seed)\n",
        "    torch.cuda.manual_seed(seed)\n",
        "    torch.backends.cudnn.deterministic = True\n",
        "\n",
        "seed_everything(seed=42)"
      ]
    },
    {
      "cell_type": "code",
      "execution_count": null,
      "metadata": {
        "id": "UwrIO7qBfS91"
      },
      "outputs": [],
      "source": [
        "train_features = pd.read_csv('train_features.csv')\n",
        "train_targets_scored = pd.read_csv('train_targets_scored.csv')\n",
        "train_targets_nonscored = pd.read_csv('train_targets_nonscored.csv')\n",
        "test_features = pd.read_csv('test_features.csv')\n",
        "submission = pd.read_csv('sample_submission.csv')"
      ]
    },
    {
      "cell_type": "code",
      "execution_count": null,
      "metadata": {
        "colab": {
          "base_uri": "https://localhost:8080/"
        },
        "id": "bE4VEbTrfthw",
        "outputId": "79693602-8009-4b64-d709-e6a367efc5d0"
      },
      "outputs": [
        {
          "output_type": "execute_result",
          "data": {
            "text/plain": [
              "cp_type\n",
              "ctl_vehicle        0\n",
              "trt_cp         16844\n",
              "dtype: int64"
            ]
          },
          "metadata": {},
          "execution_count": 18
        }
      ],
      "source": [
        "train = train_features.merge(train_targets_scored, on='sig_id')\n",
        "target_cols = [c for c in train_targets_scored.columns if c not in ['sig_id']]\n",
        "cols = target_cols + ['cp_type']\n",
        "train[cols].groupby('cp_type').sum().sum(1)"
      ]
    },
    {
      "cell_type": "code",
      "execution_count": null,
      "metadata": {
        "colab": {
          "base_uri": "https://localhost:8080/"
        },
        "id": "BK9ym0-gfyjK",
        "outputId": "ea2c2586-06b0-4646-f6a3-8428c52ca764"
      },
      "outputs": [
        {
          "output_type": "stream",
          "name": "stdout",
          "text": [
            "(23814, 876) (3982, 876)\n",
            "(21948, 1082) (3624, 876)\n"
          ]
        }
      ],
      "source": [
        "# constrcut train&test except 'cp_type'=='ctl_vehicle' data\n",
        "print(train_features.shape, test_features.shape)\n",
        "train = train[train['cp_type']!='ctl_vehicle'].reset_index(drop=True)\n",
        "test = test_features[test_features['cp_type']!='ctl_vehicle'].reset_index(drop=True)\n",
        "print(train.shape, test.shape)"
      ]
    },
    {
      "cell_type": "code",
      "execution_count": null,
      "metadata": {
        "colab": {
          "base_uri": "https://localhost:8080/"
        },
        "id": "8ecguED1f0ph",
        "outputId": "e4a7bb85-f93e-463d-9d71-8f3781a73ea6"
      },
      "outputs": [
        {
          "output_type": "stream",
          "name": "stdout",
          "text": [
            "(21948, 1083)\n"
          ]
        }
      ],
      "source": [
        "folds = train.copy()\n",
        "Fold = MultilabelStratifiedKFold(n_splits=5, shuffle=True, random_state=42)\n",
        "for n, (train_index, val_index) in enumerate(Fold.split(folds, folds[target_cols])):\n",
        "    folds.loc[val_index, 'fold'] = int(n)\n",
        "folds['fold'] = folds['fold'].astype(int)\n",
        "print(folds.shape)"
      ]
    },
    {
      "cell_type": "code",
      "execution_count": null,
      "metadata": {
        "id": "5UlcOVmjf8ga"
      },
      "outputs": [],
      "source": [
        "class TrainDataset(Dataset):\n",
        "    def __init__(self, df, num_features, cat_features, labels):\n",
        "        self.cont_values = df[num_features].values\n",
        "        self.cate_values = df[cat_features].values\n",
        "        self.labels = labels\n",
        "\n",
        "    def __len__(self):\n",
        "        return len(self.cont_values)\n",
        "\n",
        "    def __getitem__(self, idx):\n",
        "        cont_x = torch.FloatTensor(self.cont_values[idx])\n",
        "        cate_x = torch.LongTensor(self.cate_values[idx])\n",
        "        label = torch.tensor(self.labels[idx]).float()\n",
        "\n",
        "        return cont_x, cate_x, label\n",
        "\n",
        "\n",
        "class TestDataset(Dataset):\n",
        "    def __init__(self, df, num_features, cat_features):\n",
        "        self.cont_values = df[num_features].values\n",
        "        self.cate_values = df[cat_features].values\n",
        "\n",
        "    def __len__(self):\n",
        "        return len(self.cont_values)\n",
        "\n",
        "    def __getitem__(self, idx):\n",
        "        cont_x = torch.FloatTensor(self.cont_values[idx])\n",
        "        cate_x = torch.LongTensor(self.cate_values[idx])\n",
        "\n",
        "        return cont_x, cate_x"
      ]
    },
    {
      "cell_type": "code",
      "execution_count": null,
      "metadata": {
        "id": "jol5hE0lf-V5"
      },
      "outputs": [],
      "source": [
        "cat_features = ['cp_time', 'cp_dose']\n",
        "num_features = [c for c in train.columns if train.dtypes[c] != 'object']\n",
        "num_features = [c for c in num_features if c not in cat_features]\n",
        "num_features = [c for c in num_features if c not in target_cols]\n",
        "target = train[target_cols].values\n",
        "\n",
        "def cate2num(df):\n",
        "    df['cp_time'] = df['cp_time'].map({24: 0, 48: 1, 72: 2})\n",
        "    df['cp_dose'] = df['cp_dose'].map({'D1': 3, 'D2': 4})\n",
        "    return df\n",
        "\n",
        "train = cate2num(train)\n",
        "test = cate2num(test)"
      ]
    },
    {
      "cell_type": "code",
      "execution_count": null,
      "metadata": {
        "id": "IoypDY8rgCw6"
      },
      "outputs": [],
      "source": [
        "class CFG:\n",
        "    max_grad_norm=1000\n",
        "    gradient_accumulation_steps=1\n",
        "    hidden_size=512\n",
        "    dropout=0.5\n",
        "    lr=1e-2\n",
        "    weight_decay=1e-6\n",
        "    batch_size=32\n",
        "    epochs=20\n",
        "    #total_cate_size=5\n",
        "    #emb_size=4\n",
        "    num_features=num_features\n",
        "    cat_features=cat_features\n",
        "    target_cols=target_cols"
      ]
    },
    {
      "cell_type": "code",
      "execution_count": null,
      "metadata": {
        "id": "ni-nAxbYgHTB"
      },
      "outputs": [],
      "source": [
        "class TabularNN(nn.Module):\n",
        "    def __init__(self, cfg):\n",
        "        super().__init__()\n",
        "        self.mlp = nn.Sequential(\n",
        "                          nn.Linear(len(cfg.num_features), cfg.hidden_size),\n",
        "                          nn.BatchNorm1d(cfg.hidden_size),\n",
        "                          nn.Dropout(cfg.dropout),\n",
        "                          nn.PReLU(),\n",
        "                          nn.Linear(cfg.hidden_size, cfg.hidden_size),\n",
        "                          nn.BatchNorm1d(cfg.hidden_size),\n",
        "                          nn.Dropout(cfg.dropout),\n",
        "                          nn.PReLU(),\n",
        "                          nn.Linear(cfg.hidden_size, len(cfg.target_cols)),\n",
        "                          )\n",
        "\n",
        "    def forward(self, cont_x, cate_x):\n",
        "        # no use of cate_x yet\n",
        "        x = self.mlp(cont_x)\n",
        "        return x"
      ]
    },
    {
      "cell_type": "code",
      "execution_count": null,
      "metadata": {
        "id": "7LV2aZWMgPDF"
      },
      "outputs": [],
      "source": [
        "def train_fn(train_loader, model, optimizer, epoch, scheduler, device):\n",
        "\n",
        "    losses = AverageMeter()\n",
        "\n",
        "    model.train()\n",
        "\n",
        "    for step, (cont_x, cate_x, y) in enumerate(train_loader):\n",
        "\n",
        "        cont_x, cate_x, y = cont_x.to(device), cate_x.to(device), y.to(device)\n",
        "        batch_size = cont_x.size(0)\n",
        "\n",
        "        pred = model(cont_x, cate_x)\n",
        "\n",
        "        loss = nn.BCEWithLogitsLoss()(pred, y)\n",
        "        losses.update(loss.item(), batch_size)\n",
        "\n",
        "        if CFG.gradient_accumulation_steps > 1:\n",
        "            loss = loss / CFG.gradient_accumulation_steps\n",
        "\n",
        "        loss.backward()\n",
        "\n",
        "        grad_norm = torch.nn.utils.clip_grad_norm_(model.parameters(), CFG.max_grad_norm)\n",
        "\n",
        "        if (step + 1) % CFG.gradient_accumulation_steps == 0:\n",
        "            scheduler.step()\n",
        "            optimizer.step()\n",
        "            optimizer.zero_grad()\n",
        "\n",
        "    return losses.avg\n",
        "\n",
        "\n",
        "def validate_fn(valid_loader, model, device):\n",
        "\n",
        "    losses = AverageMeter()\n",
        "\n",
        "    model.eval()\n",
        "    val_preds = []\n",
        "\n",
        "    for step, (cont_x, cate_x, y) in enumerate(valid_loader):\n",
        "\n",
        "        cont_x, cate_x, y = cont_x.to(device), cate_x.to(device), y.to(device)\n",
        "        batch_size = cont_x.size(0)\n",
        "\n",
        "        with torch.no_grad():\n",
        "            pred = model(cont_x, cate_x)\n",
        "\n",
        "        loss = nn.BCEWithLogitsLoss()(pred, y)\n",
        "        losses.update(loss.item(), batch_size)\n",
        "\n",
        "        val_preds.append(pred.sigmoid().detach().cpu().numpy())\n",
        "\n",
        "        if CFG.gradient_accumulation_steps > 1:\n",
        "            loss = loss / CFG.gradient_accumulation_steps\n",
        "\n",
        "    val_preds = np.concatenate(val_preds)\n",
        "\n",
        "    return losses.avg, val_preds\n",
        "\n",
        "\n",
        "def inference_fn(test_loader, model, device):\n",
        "\n",
        "    model.eval()\n",
        "    preds = []\n",
        "\n",
        "    for step, (cont_x, cate_x) in enumerate(test_loader):\n",
        "\n",
        "        cont_x,  cate_x = cont_x.to(device), cate_x.to(device)\n",
        "\n",
        "        with torch.no_grad():\n",
        "            pred = model(cont_x, cate_x)\n",
        "\n",
        "        preds.append(pred.sigmoid().detach().cpu().numpy())\n",
        "\n",
        "    preds = np.concatenate(preds)\n",
        "\n",
        "    return preds\n",
        "\n",
        "\n",
        "class AverageMeter(object):\n",
        "    \"\"\"Computes and stores the average and current value\"\"\"\n",
        "    def __init__(self):\n",
        "        self.reset()\n",
        "\n",
        "    def reset(self):\n",
        "        self.val = 0\n",
        "        self.avg = 0\n",
        "        self.sum = 0\n",
        "        self.count = 0\n",
        "\n",
        "    def update(self, val, n=1):\n",
        "        self.val = val\n",
        "        self.sum += val * n\n",
        "        self.count += n\n",
        "        self.avg = self.sum / self.count"
      ]
    },
    {
      "cell_type": "code",
      "execution_count": null,
      "metadata": {
        "id": "jJeUtqyrgYYz"
      },
      "outputs": [],
      "source": [
        "def run_single_nn(cfg, train, test, folds, num_features, cat_features, target, device, fold_num=0, seed=42):\n",
        "\n",
        "    # Set seed\n",
        "    logger.info(f'Set seed {seed}')\n",
        "    seed_everything(seed=seed)\n",
        "\n",
        "    # loader\n",
        "    trn_idx = folds[folds['fold'] != fold_num].index\n",
        "    val_idx = folds[folds['fold'] == fold_num].index\n",
        "    train_folds = train.loc[trn_idx].reset_index(drop=True)\n",
        "    valid_folds = train.loc[val_idx].reset_index(drop=True)\n",
        "    train_target = target[trn_idx]\n",
        "    valid_target = target[val_idx]\n",
        "    train_dataset = TrainDataset(train_folds, num_features, cat_features, train_target)\n",
        "    valid_dataset = TrainDataset(valid_folds, num_features, cat_features, valid_target)\n",
        "    train_loader = DataLoader(train_dataset, batch_size=cfg.batch_size, shuffle=True,\n",
        "                              num_workers=4, pin_memory=True, drop_last=True)\n",
        "    valid_loader = DataLoader(valid_dataset, batch_size=cfg.batch_size, shuffle=False,\n",
        "                              num_workers=4, pin_memory=True, drop_last=False)\n",
        "\n",
        "    # model\n",
        "    model = TabularNN(cfg)\n",
        "    model.to(device)\n",
        "    optimizer = optim.Adam(model.parameters(), lr=cfg.lr, weight_decay=cfg.weight_decay)\n",
        "    scheduler = optim.lr_scheduler.OneCycleLR(optimizer=optimizer, pct_start=0.1, div_factor=1e3,\n",
        "                                              max_lr=1e-2, epochs=cfg.epochs, steps_per_epoch=len(train_loader))\n",
        "\n",
        "    # log\n",
        "    log_df = pd.DataFrame(columns=(['EPOCH']+['TRAIN_LOSS']+['VALID_LOSS']) )\n",
        "\n",
        "    # train & validate\n",
        "    best_loss = np.inf\n",
        "    for epoch in range(cfg.epochs):\n",
        "        train_loss = train_fn(train_loader, model, optimizer, epoch, scheduler, device)\n",
        "        valid_loss, val_preds = validate_fn(valid_loader, model, device)\n",
        "        log_row = {'EPOCH': epoch,\n",
        "                   'TRAIN_LOSS': train_loss,\n",
        "                   'VALID_LOSS': valid_loss,\n",
        "                  }\n",
        "        log_df = log_df.append(pd.DataFrame(log_row, index=[0]), sort=False)\n",
        "        #logger.info(log_df.tail(1))\n",
        "        if valid_loss < best_loss:\n",
        "            logger.info(f'epoch{epoch} save best model... {valid_loss}')\n",
        "            best_loss = valid_loss\n",
        "            oof = np.zeros((len(train), len(cfg.target_cols)))\n",
        "            oof[val_idx] = val_preds\n",
        "            torch.save(model.state_dict(), f\"fold{fold_num}_seed{seed}.pth\")\n",
        "\n",
        "    # predictions\n",
        "    test_dataset = TestDataset(test, num_features, cat_features)\n",
        "    test_loader = DataLoader(test_dataset, batch_size=cfg.batch_size, shuffle=False,\n",
        "                             num_workers=4, pin_memory=True)\n",
        "    model = TabularNN(cfg)\n",
        "    model.load_state_dict(torch.load(f\"fold{fold_num}_seed{seed}.pth\"))\n",
        "    model.to(device)\n",
        "    predictions = inference_fn(test_loader, model, device)\n",
        "\n",
        "    # del\n",
        "    torch.cuda.empty_cache()\n",
        "\n",
        "    return oof, predictions\n",
        "\n",
        "\n",
        "def run_kfold_nn(cfg, train, test, folds, num_features, cat_features, target, device, n_fold=5, seed=42):\n",
        "\n",
        "    oof = np.zeros((len(train), len(cfg.target_cols)))\n",
        "    predictions = np.zeros((len(test), len(cfg.target_cols)))\n",
        "\n",
        "    for _fold in range(n_fold):\n",
        "        logger.info(\"Fold {}\".format(_fold))\n",
        "        _oof, _predictions = run_single_nn(cfg,\n",
        "                                           train,\n",
        "                                           test,\n",
        "                                           folds,\n",
        "                                           num_features,\n",
        "                                           cat_features,\n",
        "                                           target,\n",
        "                                           device,\n",
        "                                           fold_num=_fold,\n",
        "                                           seed=seed)\n",
        "        oof += _oof\n",
        "        predictions += _predictions / n_fold\n",
        "\n",
        "    score = 0\n",
        "    for i in range(target.shape[1]):\n",
        "        _score = log_loss(target[:,i], oof[:,i])\n",
        "        score += _score / target.shape[1]\n",
        "    logger.info(f\"CV score: {score}\")\n",
        "\n",
        "    return oof, predictions"
      ]
    },
    {
      "cell_type": "code",
      "execution_count": null,
      "metadata": {
        "colab": {
          "base_uri": "https://localhost:8080/"
        },
        "id": "n5-CKgmEggvu",
        "outputId": "d209e095-ec05-4b5c-be1e-b9ab569d7428"
      },
      "outputs": [
        {
          "output_type": "stream",
          "name": "stderr",
          "text": [
            "Fold 0\n",
            "INFO:__main__:Fold 0\n",
            "Set seed 0\n",
            "INFO:__main__:Set seed 0\n",
            "epoch0 save best model... 0.02071887279790667\n",
            "INFO:__main__:epoch0 save best model... 0.02071887279790667\n",
            "epoch1 save best model... 0.01981006714776328\n",
            "INFO:__main__:epoch1 save best model... 0.01981006714776328\n",
            "epoch2 save best model... 0.017941880097574553\n",
            "INFO:__main__:epoch2 save best model... 0.017941880097574553\n",
            "epoch3 save best model... 0.017566132226403047\n",
            "INFO:__main__:epoch3 save best model... 0.017566132226403047\n",
            "epoch4 save best model... 0.017535330944934303\n",
            "INFO:__main__:epoch4 save best model... 0.017535330944934303\n",
            "epoch5 save best model... 0.017382889050472704\n",
            "INFO:__main__:epoch5 save best model... 0.017382889050472704\n",
            "epoch6 save best model... 0.017264557708742134\n",
            "INFO:__main__:epoch6 save best model... 0.017264557708742134\n",
            "epoch7 save best model... 0.017198576618639376\n",
            "INFO:__main__:epoch7 save best model... 0.017198576618639376\n",
            "epoch10 save best model... 0.017073312051305738\n",
            "INFO:__main__:epoch10 save best model... 0.017073312051305738\n",
            "epoch11 save best model... 0.016972178849975043\n",
            "INFO:__main__:epoch11 save best model... 0.016972178849975043\n",
            "epoch12 save best model... 0.016955268191245803\n",
            "INFO:__main__:epoch12 save best model... 0.016955268191245803\n",
            "epoch13 save best model... 0.016634767205541388\n",
            "INFO:__main__:epoch13 save best model... 0.016634767205541388\n",
            "epoch14 save best model... 0.016497469689603684\n",
            "INFO:__main__:epoch14 save best model... 0.016497469689603684\n",
            "epoch15 save best model... 0.016434921989119812\n",
            "INFO:__main__:epoch15 save best model... 0.016434921989119812\n",
            "epoch16 save best model... 0.016334318656448896\n",
            "INFO:__main__:epoch16 save best model... 0.016334318656448896\n",
            "epoch17 save best model... 0.01628351626378868\n",
            "INFO:__main__:epoch17 save best model... 0.01628351626378868\n",
            "Fold 1\n",
            "INFO:__main__:Fold 1\n",
            "Set seed 0\n",
            "INFO:__main__:Set seed 0\n",
            "epoch0 save best model... 0.020575566905506108\n",
            "INFO:__main__:epoch0 save best model... 0.020575566905506108\n",
            "epoch1 save best model... 0.018816348201762843\n",
            "INFO:__main__:epoch1 save best model... 0.018816348201762843\n",
            "epoch2 save best model... 0.017963403557556636\n",
            "INFO:__main__:epoch2 save best model... 0.017963403557556636\n",
            "epoch3 save best model... 0.01760858096657554\n",
            "INFO:__main__:epoch3 save best model... 0.01760858096657554\n",
            "epoch4 save best model... 0.01754119887795291\n",
            "INFO:__main__:epoch4 save best model... 0.01754119887795291\n",
            "epoch6 save best model... 0.017478340093665893\n",
            "INFO:__main__:epoch6 save best model... 0.017478340093665893\n",
            "epoch7 save best model... 0.01725297043002412\n",
            "INFO:__main__:epoch7 save best model... 0.01725297043002412\n",
            "epoch9 save best model... 0.017249711034373977\n",
            "INFO:__main__:epoch9 save best model... 0.017249711034373977\n",
            "epoch11 save best model... 0.01713839289148875\n",
            "INFO:__main__:epoch11 save best model... 0.01713839289148875\n",
            "epoch12 save best model... 0.017034991065163277\n",
            "INFO:__main__:epoch12 save best model... 0.017034991065163277\n",
            "epoch13 save best model... 0.01676222697952614\n",
            "INFO:__main__:epoch13 save best model... 0.01676222697952614\n",
            "epoch14 save best model... 0.01674427441183418\n",
            "INFO:__main__:epoch14 save best model... 0.01674427441183418\n",
            "epoch15 save best model... 0.016544636248150557\n",
            "INFO:__main__:epoch15 save best model... 0.016544636248150557\n",
            "epoch17 save best model... 0.01646540632008963\n",
            "INFO:__main__:epoch17 save best model... 0.01646540632008963\n",
            "Fold 2\n",
            "INFO:__main__:Fold 2\n",
            "Set seed 0\n",
            "INFO:__main__:Set seed 0\n",
            "epoch0 save best model... 0.019866922332576968\n",
            "INFO:__main__:epoch0 save best model... 0.019866922332576968\n",
            "epoch1 save best model... 0.01869292786897865\n",
            "INFO:__main__:epoch1 save best model... 0.01869292786897865\n",
            "epoch2 save best model... 0.017876759788760306\n",
            "INFO:__main__:epoch2 save best model... 0.017876759788760306\n",
            "epoch3 save best model... 0.017263481477697757\n",
            "INFO:__main__:epoch3 save best model... 0.017263481477697757\n",
            "epoch5 save best model... 0.017038089837934114\n",
            "INFO:__main__:epoch5 save best model... 0.017038089837934114\n",
            "epoch9 save best model... 0.016740689199060493\n",
            "INFO:__main__:epoch9 save best model... 0.016740689199060493\n",
            "epoch10 save best model... 0.016724631684501463\n",
            "INFO:__main__:epoch10 save best model... 0.016724631684501463\n",
            "epoch11 save best model... 0.01671849264629401\n",
            "INFO:__main__:epoch11 save best model... 0.01671849264629401\n",
            "epoch12 save best model... 0.016416653962099258\n",
            "INFO:__main__:epoch12 save best model... 0.016416653962099258\n",
            "epoch13 save best model... 0.01625634841179557\n",
            "INFO:__main__:epoch13 save best model... 0.01625634841179557\n",
            "epoch14 save best model... 0.016197764576559363\n",
            "INFO:__main__:epoch14 save best model... 0.016197764576559363\n",
            "epoch15 save best model... 0.015979140638323928\n",
            "INFO:__main__:epoch15 save best model... 0.015979140638323928\n",
            "epoch16 save best model... 0.015877541132130392\n",
            "INFO:__main__:epoch16 save best model... 0.015877541132130392\n",
            "epoch17 save best model... 0.015846786985551954\n",
            "INFO:__main__:epoch17 save best model... 0.015846786985551954\n",
            "epoch18 save best model... 0.01584217558797609\n",
            "INFO:__main__:epoch18 save best model... 0.01584217558797609\n",
            "epoch19 save best model... 0.015829961940664845\n",
            "INFO:__main__:epoch19 save best model... 0.015829961940664845\n",
            "Fold 3\n",
            "INFO:__main__:Fold 3\n",
            "Set seed 0\n",
            "INFO:__main__:Set seed 0\n",
            "epoch0 save best model... 0.019907963605160593\n",
            "INFO:__main__:epoch0 save best model... 0.019907963605160593\n",
            "epoch1 save best model... 0.019611448114037786\n",
            "INFO:__main__:epoch1 save best model... 0.019611448114037786\n",
            "epoch2 save best model... 0.018265186670259625\n",
            "INFO:__main__:epoch2 save best model... 0.018265186670259625\n",
            "epoch3 save best model... 0.017868959791279462\n",
            "INFO:__main__:epoch3 save best model... 0.017868959791279462\n",
            "epoch4 save best model... 0.017390076863178495\n",
            "INFO:__main__:epoch4 save best model... 0.017390076863178495\n",
            "epoch5 save best model... 0.017285774487382593\n",
            "INFO:__main__:epoch5 save best model... 0.017285774487382593\n",
            "epoch7 save best model... 0.017170817766058555\n",
            "INFO:__main__:epoch7 save best model... 0.017170817766058555\n",
            "epoch9 save best model... 0.017113221670099977\n",
            "INFO:__main__:epoch9 save best model... 0.017113221670099977\n",
            "epoch10 save best model... 0.017065048942889738\n",
            "INFO:__main__:epoch10 save best model... 0.017065048942889738\n",
            "epoch11 save best model... 0.01696617285464307\n",
            "INFO:__main__:epoch11 save best model... 0.01696617285464307\n",
            "epoch12 save best model... 0.016834574296714096\n",
            "INFO:__main__:epoch12 save best model... 0.016834574296714096\n",
            "epoch13 save best model... 0.016624127418345905\n",
            "INFO:__main__:epoch13 save best model... 0.016624127418345905\n",
            "epoch14 save best model... 0.016486285821214353\n",
            "INFO:__main__:epoch14 save best model... 0.016486285821214353\n",
            "epoch15 save best model... 0.01623319897860085\n",
            "INFO:__main__:epoch15 save best model... 0.01623319897860085\n",
            "epoch16 save best model... 0.016210958608564047\n",
            "INFO:__main__:epoch16 save best model... 0.016210958608564047\n",
            "epoch17 save best model... 0.016166578331253657\n",
            "INFO:__main__:epoch17 save best model... 0.016166578331253657\n",
            "Fold 4\n",
            "INFO:__main__:Fold 4\n",
            "Set seed 0\n",
            "INFO:__main__:Set seed 0\n",
            "epoch0 save best model... 0.019690925796089942\n",
            "INFO:__main__:epoch0 save best model... 0.019690925796089942\n",
            "epoch1 save best model... 0.018677254900884576\n",
            "INFO:__main__:epoch1 save best model... 0.018677254900884576\n",
            "epoch2 save best model... 0.018206267392079905\n",
            "INFO:__main__:epoch2 save best model... 0.018206267392079905\n",
            "epoch3 save best model... 0.01777207726745521\n",
            "INFO:__main__:epoch3 save best model... 0.01777207726745521\n",
            "epoch4 save best model... 0.017494391487844714\n",
            "INFO:__main__:epoch4 save best model... 0.017494391487844714\n",
            "epoch5 save best model... 0.017482613375264872\n",
            "INFO:__main__:epoch5 save best model... 0.017482613375264872\n",
            "epoch8 save best model... 0.017187140179226356\n",
            "INFO:__main__:epoch8 save best model... 0.017187140179226356\n",
            "epoch11 save best model... 0.01706314983712558\n",
            "INFO:__main__:epoch11 save best model... 0.01706314983712558\n",
            "epoch12 save best model... 0.01681438503618439\n",
            "INFO:__main__:epoch12 save best model... 0.01681438503618439\n",
            "epoch13 save best model... 0.016757934744471733\n",
            "INFO:__main__:epoch13 save best model... 0.016757934744471733\n",
            "epoch14 save best model... 0.016591126971561305\n",
            "INFO:__main__:epoch14 save best model... 0.016591126971561305\n",
            "epoch15 save best model... 0.016479033946661642\n",
            "INFO:__main__:epoch15 save best model... 0.016479033946661642\n",
            "epoch16 save best model... 0.016414066720826053\n",
            "INFO:__main__:epoch16 save best model... 0.016414066720826053\n",
            "epoch17 save best model... 0.016399095232576627\n",
            "INFO:__main__:epoch17 save best model... 0.016399095232576627\n",
            "CV score: 0.016228922625184043\n",
            "INFO:__main__:CV score: 0.016228922625184043\n",
            "Fold 0\n",
            "INFO:__main__:Fold 0\n",
            "Set seed 1\n",
            "INFO:__main__:Set seed 1\n",
            "epoch0 save best model... 0.020085689823879333\n",
            "INFO:__main__:epoch0 save best model... 0.020085689823879333\n",
            "epoch1 save best model... 0.019127970287292042\n",
            "INFO:__main__:epoch1 save best model... 0.019127970287292042\n",
            "epoch2 save best model... 0.018520312960384783\n",
            "INFO:__main__:epoch2 save best model... 0.018520312960384783\n",
            "epoch3 save best model... 0.018414939115150644\n",
            "INFO:__main__:epoch3 save best model... 0.018414939115150644\n",
            "epoch4 save best model... 0.017390556649595566\n",
            "INFO:__main__:epoch4 save best model... 0.017390556649595566\n",
            "epoch5 save best model... 0.01734095993483596\n",
            "INFO:__main__:epoch5 save best model... 0.01734095993483596\n",
            "epoch7 save best model... 0.017255602927628167\n",
            "INFO:__main__:epoch7 save best model... 0.017255602927628167\n",
            "epoch11 save best model... 0.01689457781740161\n",
            "INFO:__main__:epoch11 save best model... 0.01689457781740161\n",
            "epoch12 save best model... 0.01686334987733182\n",
            "INFO:__main__:epoch12 save best model... 0.01686334987733182\n",
            "epoch13 save best model... 0.01670266094751198\n",
            "INFO:__main__:epoch13 save best model... 0.01670266094751198\n",
            "epoch14 save best model... 0.01646706564373131\n",
            "INFO:__main__:epoch14 save best model... 0.01646706564373131\n",
            "epoch15 save best model... 0.01643357678382299\n",
            "INFO:__main__:epoch15 save best model... 0.01643357678382299\n",
            "epoch16 save best model... 0.01633954453483597\n",
            "INFO:__main__:epoch16 save best model... 0.01633954453483597\n",
            "epoch17 save best model... 0.016331059329534173\n",
            "INFO:__main__:epoch17 save best model... 0.016331059329534173\n",
            "epoch18 save best model... 0.016311320041333895\n",
            "INFO:__main__:epoch18 save best model... 0.016311320041333895\n",
            "Fold 1\n",
            "INFO:__main__:Fold 1\n",
            "Set seed 1\n",
            "INFO:__main__:Set seed 1\n",
            "epoch0 save best model... 0.019602326467497475\n",
            "INFO:__main__:epoch0 save best model... 0.019602326467497475\n",
            "epoch1 save best model... 0.019154681133823407\n",
            "INFO:__main__:epoch1 save best model... 0.019154681133823407\n",
            "epoch2 save best model... 0.018032342590103115\n",
            "INFO:__main__:epoch2 save best model... 0.018032342590103115\n",
            "epoch3 save best model... 0.017677251695059154\n",
            "INFO:__main__:epoch3 save best model... 0.017677251695059154\n",
            "epoch5 save best model... 0.01741082029659004\n",
            "INFO:__main__:epoch5 save best model... 0.01741082029659004\n",
            "epoch10 save best model... 0.017290317997811597\n",
            "INFO:__main__:epoch10 save best model... 0.017290317997811597\n",
            "epoch11 save best model... 0.017237905302596255\n",
            "INFO:__main__:epoch11 save best model... 0.017237905302596255\n",
            "epoch12 save best model... 0.016886695912256326\n",
            "INFO:__main__:epoch12 save best model... 0.016886695912256326\n",
            "epoch14 save best model... 0.016651271682461735\n",
            "INFO:__main__:epoch14 save best model... 0.016651271682461735\n",
            "epoch16 save best model... 0.016430704459412224\n",
            "INFO:__main__:epoch16 save best model... 0.016430704459412224\n",
            "epoch17 save best model... 0.016391601346450135\n",
            "INFO:__main__:epoch17 save best model... 0.016391601346450135\n",
            "Fold 2\n",
            "INFO:__main__:Fold 2\n",
            "Set seed 1\n",
            "INFO:__main__:Set seed 1\n",
            "epoch0 save best model... 0.020643888077874557\n",
            "INFO:__main__:epoch0 save best model... 0.020643888077874557\n",
            "epoch1 save best model... 0.01996170034291302\n",
            "INFO:__main__:epoch1 save best model... 0.01996170034291302\n",
            "epoch2 save best model... 0.018034092197523596\n",
            "INFO:__main__:epoch2 save best model... 0.018034092197523596\n",
            "epoch3 save best model... 0.01754271464286965\n",
            "INFO:__main__:epoch3 save best model... 0.01754271464286965\n",
            "epoch4 save best model... 0.017154671766982585\n",
            "INFO:__main__:epoch4 save best model... 0.017154671766982585\n",
            "epoch5 save best model... 0.017013826610562496\n",
            "INFO:__main__:epoch5 save best model... 0.017013826610562496\n",
            "epoch7 save best model... 0.016968416374946584\n",
            "INFO:__main__:epoch7 save best model... 0.016968416374946584\n",
            "epoch10 save best model... 0.01677925631066109\n",
            "INFO:__main__:epoch10 save best model... 0.01677925631066109\n",
            "epoch11 save best model... 0.016503736433842765\n",
            "INFO:__main__:epoch11 save best model... 0.016503736433842765\n",
            "epoch14 save best model... 0.01617607269113585\n",
            "INFO:__main__:epoch14 save best model... 0.01617607269113585\n",
            "epoch15 save best model... 0.01601633424179976\n",
            "INFO:__main__:epoch15 save best model... 0.01601633424179976\n",
            "epoch16 save best model... 0.01584532141802617\n",
            "INFO:__main__:epoch16 save best model... 0.01584532141802617\n",
            "epoch18 save best model... 0.015844418405408563\n",
            "INFO:__main__:epoch18 save best model... 0.015844418405408563\n",
            "epoch19 save best model... 0.015825197289068244\n",
            "INFO:__main__:epoch19 save best model... 0.015825197289068244\n",
            "Fold 3\n",
            "INFO:__main__:Fold 3\n",
            "Set seed 1\n",
            "INFO:__main__:Set seed 1\n",
            "epoch0 save best model... 0.01981179872973226\n",
            "INFO:__main__:epoch0 save best model... 0.01981179872973226\n",
            "epoch1 save best model... 0.01880001140703237\n",
            "INFO:__main__:epoch1 save best model... 0.01880001140703237\n",
            "epoch2 save best model... 0.018196440656968564\n",
            "INFO:__main__:epoch2 save best model... 0.018196440656968564\n",
            "epoch3 save best model... 0.01753281300637133\n",
            "INFO:__main__:epoch3 save best model... 0.01753281300637133\n",
            "epoch4 save best model... 0.017430812723781906\n",
            "INFO:__main__:epoch4 save best model... 0.017430812723781906\n",
            "epoch6 save best model... 0.017417945006781666\n",
            "INFO:__main__:epoch6 save best model... 0.017417945006781666\n",
            "epoch7 save best model... 0.017175180424250883\n",
            "INFO:__main__:epoch7 save best model... 0.017175180424250883\n",
            "epoch8 save best model... 0.0170733468318549\n",
            "INFO:__main__:epoch8 save best model... 0.0170733468318549\n",
            "epoch11 save best model... 0.016912856298776723\n",
            "INFO:__main__:epoch11 save best model... 0.016912856298776723\n",
            "epoch12 save best model... 0.01665821403460174\n",
            "INFO:__main__:epoch12 save best model... 0.01665821403460174\n",
            "epoch13 save best model... 0.01655038031611532\n",
            "INFO:__main__:epoch13 save best model... 0.01655038031611532\n",
            "epoch14 save best model... 0.01639044012339756\n",
            "INFO:__main__:epoch14 save best model... 0.01639044012339756\n",
            "epoch15 save best model... 0.016322167248280554\n",
            "INFO:__main__:epoch15 save best model... 0.016322167248280554\n",
            "epoch16 save best model... 0.016262104225202818\n",
            "INFO:__main__:epoch16 save best model... 0.016262104225202818\n",
            "epoch17 save best model... 0.0161946166137017\n",
            "INFO:__main__:epoch17 save best model... 0.0161946166137017\n",
            "Fold 4\n",
            "INFO:__main__:Fold 4\n",
            "Set seed 1\n",
            "INFO:__main__:Set seed 1\n",
            "epoch0 save best model... 0.020523375622108223\n",
            "INFO:__main__:epoch0 save best model... 0.020523375622108223\n",
            "epoch1 save best model... 0.019132940455979193\n",
            "INFO:__main__:epoch1 save best model... 0.019132940455979193\n",
            "epoch2 save best model... 0.018040267805154882\n",
            "INFO:__main__:epoch2 save best model... 0.018040267805154882\n",
            "epoch3 save best model... 0.017602863385220897\n",
            "INFO:__main__:epoch3 save best model... 0.017602863385220897\n",
            "epoch7 save best model... 0.01731782574266005\n",
            "INFO:__main__:epoch7 save best model... 0.01731782574266005\n",
            "epoch9 save best model... 0.01723226191725104\n",
            "INFO:__main__:epoch9 save best model... 0.01723226191725104\n",
            "epoch10 save best model... 0.01722918627463242\n",
            "INFO:__main__:epoch10 save best model... 0.01722918627463242\n",
            "epoch11 save best model... 0.017105054582846235\n",
            "INFO:__main__:epoch11 save best model... 0.017105054582846235\n",
            "epoch12 save best model... 0.016899447056969236\n",
            "INFO:__main__:epoch12 save best model... 0.016899447056969236\n",
            "epoch13 save best model... 0.016810727134893576\n",
            "INFO:__main__:epoch13 save best model... 0.016810727134893576\n",
            "epoch14 save best model... 0.016608790275941043\n",
            "INFO:__main__:epoch14 save best model... 0.016608790275941043\n",
            "epoch15 save best model... 0.01654633884796672\n",
            "INFO:__main__:epoch15 save best model... 0.01654633884796672\n",
            "epoch16 save best model... 0.016432474795741652\n",
            "INFO:__main__:epoch16 save best model... 0.016432474795741652\n",
            "epoch17 save best model... 0.01638850928440191\n",
            "INFO:__main__:epoch17 save best model... 0.01638850928440191\n",
            "epoch18 save best model... 0.016382388917631226\n",
            "INFO:__main__:epoch18 save best model... 0.016382388917631226\n",
            "CV score: 0.01622103592562087\n",
            "INFO:__main__:CV score: 0.01622103592562087\n",
            "Fold 0\n",
            "INFO:__main__:Fold 0\n",
            "Set seed 2\n",
            "INFO:__main__:Set seed 2\n",
            "epoch0 save best model... 0.020418061337227972\n",
            "INFO:__main__:epoch0 save best model... 0.020418061337227972\n",
            "epoch1 save best model... 0.019122172954888984\n",
            "INFO:__main__:epoch1 save best model... 0.019122172954888984\n",
            "epoch2 save best model... 0.018149793896493172\n",
            "INFO:__main__:epoch2 save best model... 0.018149793896493172\n",
            "epoch3 save best model... 0.017661090610985874\n",
            "INFO:__main__:epoch3 save best model... 0.017661090610985874\n",
            "epoch4 save best model... 0.017384473773691133\n",
            "INFO:__main__:epoch4 save best model... 0.017384473773691133\n",
            "epoch6 save best model... 0.017271747266988276\n",
            "INFO:__main__:epoch6 save best model... 0.017271747266988276\n",
            "epoch9 save best model... 0.017194551632555035\n",
            "INFO:__main__:epoch9 save best model... 0.017194551632555035\n",
            "epoch10 save best model... 0.01718787631711547\n",
            "INFO:__main__:epoch10 save best model... 0.01718787631711547\n",
            "epoch11 save best model... 0.016887035554355532\n",
            "INFO:__main__:epoch11 save best model... 0.016887035554355532\n",
            "epoch12 save best model... 0.01681811473499941\n",
            "INFO:__main__:epoch12 save best model... 0.01681811473499941\n",
            "epoch13 save best model... 0.016701613002136382\n",
            "INFO:__main__:epoch13 save best model... 0.016701613002136382\n",
            "epoch14 save best model... 0.01667808082913619\n",
            "INFO:__main__:epoch14 save best model... 0.01667808082913619\n",
            "epoch15 save best model... 0.016428247278721702\n",
            "INFO:__main__:epoch15 save best model... 0.016428247278721702\n",
            "epoch16 save best model... 0.01637400855185095\n",
            "INFO:__main__:epoch16 save best model... 0.01637400855185095\n",
            "epoch17 save best model... 0.016347738828484587\n",
            "INFO:__main__:epoch17 save best model... 0.016347738828484587\n",
            "epoch18 save best model... 0.01633161839717206\n",
            "INFO:__main__:epoch18 save best model... 0.01633161839717206\n",
            "Fold 1\n",
            "INFO:__main__:Fold 1\n",
            "Set seed 2\n",
            "INFO:__main__:Set seed 2\n",
            "epoch0 save best model... 0.020304076844542066\n",
            "INFO:__main__:epoch0 save best model... 0.020304076844542066\n",
            "epoch1 save best model... 0.019670451782932315\n",
            "INFO:__main__:epoch1 save best model... 0.019670451782932315\n",
            "epoch2 save best model... 0.018254555504692713\n",
            "INFO:__main__:epoch2 save best model... 0.018254555504692713\n",
            "epoch3 save best model... 0.017601717372079103\n",
            "INFO:__main__:epoch3 save best model... 0.017601717372079103\n",
            "epoch5 save best model... 0.017384597387563667\n",
            "INFO:__main__:epoch5 save best model... 0.017384597387563667\n",
            "epoch9 save best model... 0.01719245405142155\n",
            "INFO:__main__:epoch9 save best model... 0.01719245405142155\n",
            "epoch11 save best model... 0.016946482867986848\n",
            "INFO:__main__:epoch11 save best model... 0.016946482867986848\n",
            "epoch13 save best model... 0.016785490888771272\n",
            "INFO:__main__:epoch13 save best model... 0.016785490888771272\n",
            "epoch14 save best model... 0.01667582323023697\n",
            "INFO:__main__:epoch14 save best model... 0.01667582323023697\n",
            "epoch15 save best model... 0.016561015301589814\n",
            "INFO:__main__:epoch15 save best model... 0.016561015301589814\n",
            "epoch16 save best model... 0.016477608555134447\n",
            "INFO:__main__:epoch16 save best model... 0.016477608555134447\n",
            "epoch17 save best model... 0.01644591245299591\n",
            "INFO:__main__:epoch17 save best model... 0.01644591245299591\n",
            "epoch19 save best model... 0.016425276496755237\n",
            "INFO:__main__:epoch19 save best model... 0.016425276496755237\n",
            "Fold 2\n",
            "INFO:__main__:Fold 2\n",
            "Set seed 2\n",
            "INFO:__main__:Set seed 2\n",
            "epoch0 save best model... 0.019361424624179755\n",
            "INFO:__main__:epoch0 save best model... 0.019361424624179755\n",
            "epoch1 save best model... 0.018512999572073727\n",
            "INFO:__main__:epoch1 save best model... 0.018512999572073727\n",
            "epoch2 save best model... 0.01768035934586566\n",
            "INFO:__main__:epoch2 save best model... 0.01768035934586566\n",
            "epoch3 save best model... 0.017299848725167512\n",
            "INFO:__main__:epoch3 save best model... 0.017299848725167512\n",
            "epoch5 save best model... 0.017081504468681955\n",
            "INFO:__main__:epoch5 save best model... 0.017081504468681955\n",
            "epoch8 save best model... 0.016900045348012614\n",
            "INFO:__main__:epoch8 save best model... 0.016900045348012614\n",
            "epoch10 save best model... 0.016729980584944428\n",
            "INFO:__main__:epoch10 save best model... 0.016729980584944428\n",
            "epoch11 save best model... 0.016679669976723332\n",
            "INFO:__main__:epoch11 save best model... 0.016679669976723332\n",
            "epoch12 save best model... 0.016579184388560635\n",
            "INFO:__main__:epoch12 save best model... 0.016579184388560635\n",
            "epoch13 save best model... 0.016466005022878812\n",
            "INFO:__main__:epoch13 save best model... 0.016466005022878812\n",
            "epoch14 save best model... 0.016177748725892782\n",
            "INFO:__main__:epoch14 save best model... 0.016177748725892782\n",
            "epoch15 save best model... 0.016094580634335203\n",
            "INFO:__main__:epoch15 save best model... 0.016094580634335203\n",
            "epoch16 save best model... 0.015911914913230345\n",
            "INFO:__main__:epoch16 save best model... 0.015911914913230345\n",
            "epoch18 save best model... 0.015889289877599196\n",
            "INFO:__main__:epoch18 save best model... 0.015889289877599196\n",
            "epoch19 save best model... 0.01587504699064886\n",
            "INFO:__main__:epoch19 save best model... 0.01587504699064886\n",
            "Fold 3\n",
            "INFO:__main__:Fold 3\n",
            "Set seed 2\n",
            "INFO:__main__:Set seed 2\n",
            "epoch0 save best model... 0.019771440174422124\n",
            "INFO:__main__:epoch0 save best model... 0.019771440174422124\n",
            "epoch1 save best model... 0.01867635724281124\n",
            "INFO:__main__:epoch1 save best model... 0.01867635724281124\n",
            "epoch2 save best model... 0.018038917281123935\n",
            "INFO:__main__:epoch2 save best model... 0.018038917281123935\n",
            "epoch3 save best model... 0.017636491939561242\n",
            "INFO:__main__:epoch3 save best model... 0.017636491939561242\n",
            "epoch4 save best model... 0.017451345840795707\n",
            "INFO:__main__:epoch4 save best model... 0.017451345840795707\n",
            "epoch6 save best model... 0.01742533137830895\n",
            "INFO:__main__:epoch6 save best model... 0.01742533137830895\n",
            "epoch7 save best model... 0.017222622109063664\n",
            "INFO:__main__:epoch7 save best model... 0.017222622109063664\n",
            "epoch9 save best model... 0.017072449496402013\n",
            "INFO:__main__:epoch9 save best model... 0.017072449496402013\n",
            "epoch10 save best model... 0.017023862919564398\n",
            "INFO:__main__:epoch10 save best model... 0.017023862919564398\n",
            "epoch12 save best model... 0.016782340560965496\n",
            "INFO:__main__:epoch12 save best model... 0.016782340560965496\n",
            "epoch13 save best model... 0.016708509774203996\n",
            "INFO:__main__:epoch13 save best model... 0.016708509774203996\n",
            "epoch14 save best model... 0.016403962617871568\n",
            "INFO:__main__:epoch14 save best model... 0.016403962617871568\n",
            "epoch15 save best model... 0.016275886010488915\n",
            "INFO:__main__:epoch15 save best model... 0.016275886010488915\n",
            "epoch16 save best model... 0.01617884592944438\n",
            "INFO:__main__:epoch16 save best model... 0.01617884592944438\n",
            "epoch17 save best model... 0.016178264140505726\n",
            "INFO:__main__:epoch17 save best model... 0.016178264140505726\n",
            "Fold 4\n",
            "INFO:__main__:Fold 4\n",
            "Set seed 2\n",
            "INFO:__main__:Set seed 2\n",
            "epoch0 save best model... 0.020760142124084193\n",
            "INFO:__main__:epoch0 save best model... 0.020760142124084193\n",
            "epoch1 save best model... 0.01882453325785328\n",
            "INFO:__main__:epoch1 save best model... 0.01882453325785328\n",
            "epoch2 save best model... 0.018303896073234138\n",
            "INFO:__main__:epoch2 save best model... 0.018303896073234138\n",
            "epoch3 save best model... 0.01774696285071861\n",
            "INFO:__main__:epoch3 save best model... 0.01774696285071861\n",
            "epoch4 save best model... 0.01764899256515473\n",
            "INFO:__main__:epoch4 save best model... 0.01764899256515473\n",
            "epoch5 save best model... 0.01743120855617208\n",
            "INFO:__main__:epoch5 save best model... 0.01743120855617208\n",
            "epoch6 save best model... 0.017295858080505877\n",
            "INFO:__main__:epoch6 save best model... 0.017295858080505877\n",
            "epoch10 save best model... 0.01708087188251763\n",
            "INFO:__main__:epoch10 save best model... 0.01708087188251763\n",
            "epoch12 save best model... 0.017048145118123866\n",
            "INFO:__main__:epoch12 save best model... 0.017048145118123866\n",
            "epoch13 save best model... 0.016865970067999024\n",
            "INFO:__main__:epoch13 save best model... 0.016865970067999024\n",
            "epoch14 save best model... 0.016731363140627162\n",
            "INFO:__main__:epoch14 save best model... 0.016731363140627162\n",
            "epoch15 save best model... 0.01646655078618313\n",
            "INFO:__main__:epoch15 save best model... 0.01646655078618313\n",
            "epoch16 save best model... 0.01643868789690472\n",
            "INFO:__main__:epoch16 save best model... 0.01643868789690472\n",
            "epoch17 save best model... 0.016411171088071136\n",
            "INFO:__main__:epoch17 save best model... 0.016411171088071136\n",
            "epoch18 save best model... 0.01638008281206604\n",
            "INFO:__main__:epoch18 save best model... 0.01638008281206604\n",
            "CV score: 0.016238068393544476\n",
            "INFO:__main__:CV score: 0.016238068393544476\n",
            "Seed Averaged CV score: 0.016082383978639248\n",
            "INFO:__main__:Seed Averaged CV score: 0.016082383978639248\n"
          ]
        }
      ],
      "source": [
        "# Seed Averaging for solid result\n",
        "oof = np.zeros((len(train), len(CFG.target_cols)))\n",
        "predictions = np.zeros((len(test), len(CFG.target_cols)))\n",
        "\n",
        "SEED = [0, 1, 2]\n",
        "for seed in SEED:\n",
        "    _oof, _predictions = run_kfold_nn(CFG,\n",
        "                                      train, test, folds,\n",
        "                                      num_features, cat_features, target,\n",
        "                                      device,\n",
        "                                      n_fold=5, seed=seed)\n",
        "    oof += _oof / len(SEED)\n",
        "    predictions += _predictions / len(SEED)\n",
        "\n",
        "score = 0\n",
        "for i in range(target.shape[1]):\n",
        "    _score = log_loss(target[:,i], oof[:,i])\n",
        "    score += _score / target.shape[1]\n",
        "logger.info(f\"Seed Averaged CV score: {score}\")"
      ]
    },
    {
      "cell_type": "code",
      "execution_count": null,
      "metadata": {
        "id": "2dTvFcpRgov4"
      },
      "outputs": [],
      "source": [
        "train[target_cols] = oof\n",
        "train[['sig_id']+target_cols].to_csv('oof.csv', index=False)\n",
        "\n",
        "test[target_cols] = predictions\n",
        "test[['sig_id']+target_cols].to_csv('pred.csv', index=False)"
      ]
    },
    {
      "cell_type": "code",
      "execution_count": null,
      "metadata": {
        "colab": {
          "base_uri": "https://localhost:8080/"
        },
        "id": "ZNPIFas3l7yh",
        "outputId": "1b847032-bfa5-475f-f811-8b5f83d33917"
      },
      "outputs": [
        {
          "output_type": "stream",
          "name": "stderr",
          "text": [
            "Final result: 0.014822212293742126\n",
            "INFO:__main__:Final result: 0.014822212293742126\n"
          ]
        }
      ],
      "source": [
        "# Final result with 'cp_type'=='ctl_vehicle' data\n",
        "result = train_targets_scored.drop(columns=target_cols)\\\n",
        "            .merge(train[['sig_id']+target_cols], on='sig_id', how='left').fillna(0)\n",
        "y_true = train_targets_scored[target_cols].values\n",
        "y_pred = result[target_cols].values\n",
        "score = 0\n",
        "for i in range(y_true.shape[1]):\n",
        "    _score = log_loss(y_true[:,i], y_pred[:,i])\n",
        "    score += _score / y_true.shape[1]\n",
        "logger.info(f\"Final result: {score}\")"
      ]
    },
    {
      "cell_type": "code",
      "execution_count": null,
      "metadata": {
        "colab": {
          "base_uri": "https://localhost:8080/",
          "height": 273
        },
        "id": "RWTfbWpfmImP",
        "outputId": "8a1eca11-a4a7-4342-bbbd-2584e58634ec"
      },
      "outputs": [
        {
          "output_type": "execute_result",
          "data": {
            "text/plain": [
              "         sig_id  5-alpha_reductase_inhibitor  11-beta-hsd1_inhibitor  \\\n",
              "0  id_0004d9e33                     0.000792                0.001464   \n",
              "1  id_001897cda                     0.000280                0.000711   \n",
              "2  id_002429b5b                     0.000000                0.000000   \n",
              "3  id_00276f245                     0.001155                0.000536   \n",
              "4  id_0027f1083                     0.002394                0.002979   \n",
              "\n",
              "   acat_inhibitor  acetylcholine_receptor_agonist  \\\n",
              "0        0.001786                        0.013734   \n",
              "1        0.001633                        0.001463   \n",
              "2        0.000000                        0.000000   \n",
              "3        0.002298                        0.017399   \n",
              "4        0.002061                        0.016691   \n",
              "\n",
              "   acetylcholine_receptor_antagonist  acetylcholinesterase_inhibitor  \\\n",
              "0                           0.032672                        0.004647   \n",
              "1                           0.001134                        0.001385   \n",
              "2                           0.000000                        0.000000   \n",
              "3                           0.016639                        0.004673   \n",
              "4                           0.021168                        0.004821   \n",
              "\n",
              "   adenosine_receptor_agonist  adenosine_receptor_antagonist  \\\n",
              "0                    0.001377                       0.007129   \n",
              "1                    0.005871                       0.007396   \n",
              "2                    0.000000                       0.000000   \n",
              "3                    0.002954                       0.002930   \n",
              "4                    0.009537                       0.001196   \n",
              "\n",
              "   adenylyl_cyclase_activator  ...  tropomyosin_receptor_kinase_inhibitor  \\\n",
              "0                    0.000098  ...                               0.000594   \n",
              "1                    0.008775  ...                               0.000549   \n",
              "2                    0.000000  ...                               0.000000   \n",
              "3                    0.000100  ...                               0.000646   \n",
              "4                    0.000317  ...                               0.001028   \n",
              "\n",
              "   trpv_agonist  trpv_antagonist  tubulin_inhibitor  \\\n",
              "0      0.000994         0.003284           0.000304   \n",
              "1      0.000462         0.004384           0.000102   \n",
              "2      0.000000         0.000000           0.000000   \n",
              "3      0.000439         0.004440           0.026943   \n",
              "4      0.000362         0.008019           0.004452   \n",
              "\n",
              "   tyrosine_kinase_inhibitor  ubiquitin_specific_protease_inhibitor  \\\n",
              "0                   0.000367                               0.000627   \n",
              "1                   0.008968                               0.000379   \n",
              "2                   0.000000                               0.000000   \n",
              "3                   0.007626                               0.000538   \n",
              "4                   0.000890                               0.000866   \n",
              "\n",
              "   vegfr_inhibitor  vitamin_b  vitamin_d_receptor_agonist  wnt_inhibitor  \n",
              "0         0.000139   0.001850                    0.003245       0.001232  \n",
              "1         0.005228   0.000507                    0.000984       0.002710  \n",
              "2         0.000000   0.000000                    0.000000       0.000000  \n",
              "3         0.001460   0.003062                    0.000141       0.003636  \n",
              "4         0.000595   0.002127                    0.000074       0.001551  \n",
              "\n",
              "[5 rows x 207 columns]"
            ],
            "text/html": [
              "\n",
              "  <div id=\"df-465c1485-a404-499d-bdb7-640aa402cbac\" class=\"colab-df-container\">\n",
              "    <div>\n",
              "<style scoped>\n",
              "    .dataframe tbody tr th:only-of-type {\n",
              "        vertical-align: middle;\n",
              "    }\n",
              "\n",
              "    .dataframe tbody tr th {\n",
              "        vertical-align: top;\n",
              "    }\n",
              "\n",
              "    .dataframe thead th {\n",
              "        text-align: right;\n",
              "    }\n",
              "</style>\n",
              "<table border=\"1\" class=\"dataframe\">\n",
              "  <thead>\n",
              "    <tr style=\"text-align: right;\">\n",
              "      <th></th>\n",
              "      <th>sig_id</th>\n",
              "      <th>5-alpha_reductase_inhibitor</th>\n",
              "      <th>11-beta-hsd1_inhibitor</th>\n",
              "      <th>acat_inhibitor</th>\n",
              "      <th>acetylcholine_receptor_agonist</th>\n",
              "      <th>acetylcholine_receptor_antagonist</th>\n",
              "      <th>acetylcholinesterase_inhibitor</th>\n",
              "      <th>adenosine_receptor_agonist</th>\n",
              "      <th>adenosine_receptor_antagonist</th>\n",
              "      <th>adenylyl_cyclase_activator</th>\n",
              "      <th>...</th>\n",
              "      <th>tropomyosin_receptor_kinase_inhibitor</th>\n",
              "      <th>trpv_agonist</th>\n",
              "      <th>trpv_antagonist</th>\n",
              "      <th>tubulin_inhibitor</th>\n",
              "      <th>tyrosine_kinase_inhibitor</th>\n",
              "      <th>ubiquitin_specific_protease_inhibitor</th>\n",
              "      <th>vegfr_inhibitor</th>\n",
              "      <th>vitamin_b</th>\n",
              "      <th>vitamin_d_receptor_agonist</th>\n",
              "      <th>wnt_inhibitor</th>\n",
              "    </tr>\n",
              "  </thead>\n",
              "  <tbody>\n",
              "    <tr>\n",
              "      <th>0</th>\n",
              "      <td>id_0004d9e33</td>\n",
              "      <td>0.000792</td>\n",
              "      <td>0.001464</td>\n",
              "      <td>0.001786</td>\n",
              "      <td>0.013734</td>\n",
              "      <td>0.032672</td>\n",
              "      <td>0.004647</td>\n",
              "      <td>0.001377</td>\n",
              "      <td>0.007129</td>\n",
              "      <td>0.000098</td>\n",
              "      <td>...</td>\n",
              "      <td>0.000594</td>\n",
              "      <td>0.000994</td>\n",
              "      <td>0.003284</td>\n",
              "      <td>0.000304</td>\n",
              "      <td>0.000367</td>\n",
              "      <td>0.000627</td>\n",
              "      <td>0.000139</td>\n",
              "      <td>0.001850</td>\n",
              "      <td>0.003245</td>\n",
              "      <td>0.001232</td>\n",
              "    </tr>\n",
              "    <tr>\n",
              "      <th>1</th>\n",
              "      <td>id_001897cda</td>\n",
              "      <td>0.000280</td>\n",
              "      <td>0.000711</td>\n",
              "      <td>0.001633</td>\n",
              "      <td>0.001463</td>\n",
              "      <td>0.001134</td>\n",
              "      <td>0.001385</td>\n",
              "      <td>0.005871</td>\n",
              "      <td>0.007396</td>\n",
              "      <td>0.008775</td>\n",
              "      <td>...</td>\n",
              "      <td>0.000549</td>\n",
              "      <td>0.000462</td>\n",
              "      <td>0.004384</td>\n",
              "      <td>0.000102</td>\n",
              "      <td>0.008968</td>\n",
              "      <td>0.000379</td>\n",
              "      <td>0.005228</td>\n",
              "      <td>0.000507</td>\n",
              "      <td>0.000984</td>\n",
              "      <td>0.002710</td>\n",
              "    </tr>\n",
              "    <tr>\n",
              "      <th>2</th>\n",
              "      <td>id_002429b5b</td>\n",
              "      <td>0.000000</td>\n",
              "      <td>0.000000</td>\n",
              "      <td>0.000000</td>\n",
              "      <td>0.000000</td>\n",
              "      <td>0.000000</td>\n",
              "      <td>0.000000</td>\n",
              "      <td>0.000000</td>\n",
              "      <td>0.000000</td>\n",
              "      <td>0.000000</td>\n",
              "      <td>...</td>\n",
              "      <td>0.000000</td>\n",
              "      <td>0.000000</td>\n",
              "      <td>0.000000</td>\n",
              "      <td>0.000000</td>\n",
              "      <td>0.000000</td>\n",
              "      <td>0.000000</td>\n",
              "      <td>0.000000</td>\n",
              "      <td>0.000000</td>\n",
              "      <td>0.000000</td>\n",
              "      <td>0.000000</td>\n",
              "    </tr>\n",
              "    <tr>\n",
              "      <th>3</th>\n",
              "      <td>id_00276f245</td>\n",
              "      <td>0.001155</td>\n",
              "      <td>0.000536</td>\n",
              "      <td>0.002298</td>\n",
              "      <td>0.017399</td>\n",
              "      <td>0.016639</td>\n",
              "      <td>0.004673</td>\n",
              "      <td>0.002954</td>\n",
              "      <td>0.002930</td>\n",
              "      <td>0.000100</td>\n",
              "      <td>...</td>\n",
              "      <td>0.000646</td>\n",
              "      <td>0.000439</td>\n",
              "      <td>0.004440</td>\n",
              "      <td>0.026943</td>\n",
              "      <td>0.007626</td>\n",
              "      <td>0.000538</td>\n",
              "      <td>0.001460</td>\n",
              "      <td>0.003062</td>\n",
              "      <td>0.000141</td>\n",
              "      <td>0.003636</td>\n",
              "    </tr>\n",
              "    <tr>\n",
              "      <th>4</th>\n",
              "      <td>id_0027f1083</td>\n",
              "      <td>0.002394</td>\n",
              "      <td>0.002979</td>\n",
              "      <td>0.002061</td>\n",
              "      <td>0.016691</td>\n",
              "      <td>0.021168</td>\n",
              "      <td>0.004821</td>\n",
              "      <td>0.009537</td>\n",
              "      <td>0.001196</td>\n",
              "      <td>0.000317</td>\n",
              "      <td>...</td>\n",
              "      <td>0.001028</td>\n",
              "      <td>0.000362</td>\n",
              "      <td>0.008019</td>\n",
              "      <td>0.004452</td>\n",
              "      <td>0.000890</td>\n",
              "      <td>0.000866</td>\n",
              "      <td>0.000595</td>\n",
              "      <td>0.002127</td>\n",
              "      <td>0.000074</td>\n",
              "      <td>0.001551</td>\n",
              "    </tr>\n",
              "  </tbody>\n",
              "</table>\n",
              "<p>5 rows × 207 columns</p>\n",
              "</div>\n",
              "    <div class=\"colab-df-buttons\">\n",
              "\n",
              "  <div class=\"colab-df-container\">\n",
              "    <button class=\"colab-df-convert\" onclick=\"convertToInteractive('df-465c1485-a404-499d-bdb7-640aa402cbac')\"\n",
              "            title=\"Convert this dataframe to an interactive table.\"\n",
              "            style=\"display:none;\">\n",
              "\n",
              "  <svg xmlns=\"http://www.w3.org/2000/svg\" height=\"24px\" viewBox=\"0 -960 960 960\">\n",
              "    <path d=\"M120-120v-720h720v720H120Zm60-500h600v-160H180v160Zm220 220h160v-160H400v160Zm0 220h160v-160H400v160ZM180-400h160v-160H180v160Zm440 0h160v-160H620v160ZM180-180h160v-160H180v160Zm440 0h160v-160H620v160Z\"/>\n",
              "  </svg>\n",
              "    </button>\n",
              "\n",
              "  <style>\n",
              "    .colab-df-container {\n",
              "      display:flex;\n",
              "      gap: 12px;\n",
              "    }\n",
              "\n",
              "    .colab-df-convert {\n",
              "      background-color: #E8F0FE;\n",
              "      border: none;\n",
              "      border-radius: 50%;\n",
              "      cursor: pointer;\n",
              "      display: none;\n",
              "      fill: #1967D2;\n",
              "      height: 32px;\n",
              "      padding: 0 0 0 0;\n",
              "      width: 32px;\n",
              "    }\n",
              "\n",
              "    .colab-df-convert:hover {\n",
              "      background-color: #E2EBFA;\n",
              "      box-shadow: 0px 1px 2px rgba(60, 64, 67, 0.3), 0px 1px 3px 1px rgba(60, 64, 67, 0.15);\n",
              "      fill: #174EA6;\n",
              "    }\n",
              "\n",
              "    .colab-df-buttons div {\n",
              "      margin-bottom: 4px;\n",
              "    }\n",
              "\n",
              "    [theme=dark] .colab-df-convert {\n",
              "      background-color: #3B4455;\n",
              "      fill: #D2E3FC;\n",
              "    }\n",
              "\n",
              "    [theme=dark] .colab-df-convert:hover {\n",
              "      background-color: #434B5C;\n",
              "      box-shadow: 0px 1px 3px 1px rgba(0, 0, 0, 0.15);\n",
              "      filter: drop-shadow(0px 1px 2px rgba(0, 0, 0, 0.3));\n",
              "      fill: #FFFFFF;\n",
              "    }\n",
              "  </style>\n",
              "\n",
              "    <script>\n",
              "      const buttonEl =\n",
              "        document.querySelector('#df-465c1485-a404-499d-bdb7-640aa402cbac button.colab-df-convert');\n",
              "      buttonEl.style.display =\n",
              "        google.colab.kernel.accessAllowed ? 'block' : 'none';\n",
              "\n",
              "      async function convertToInteractive(key) {\n",
              "        const element = document.querySelector('#df-465c1485-a404-499d-bdb7-640aa402cbac');\n",
              "        const dataTable =\n",
              "          await google.colab.kernel.invokeFunction('convertToInteractive',\n",
              "                                                    [key], {});\n",
              "        if (!dataTable) return;\n",
              "\n",
              "        const docLinkHtml = 'Like what you see? Visit the ' +\n",
              "          '<a target=\"_blank\" href=https://colab.research.google.com/notebooks/data_table.ipynb>data table notebook</a>'\n",
              "          + ' to learn more about interactive tables.';\n",
              "        element.innerHTML = '';\n",
              "        dataTable['output_type'] = 'display_data';\n",
              "        await google.colab.output.renderOutput(dataTable, element);\n",
              "        const docLink = document.createElement('div');\n",
              "        docLink.innerHTML = docLinkHtml;\n",
              "        element.appendChild(docLink);\n",
              "      }\n",
              "    </script>\n",
              "  </div>\n",
              "\n",
              "\n",
              "<div id=\"df-f3140e4f-7514-4060-a94d-b523771a6135\">\n",
              "  <button class=\"colab-df-quickchart\" onclick=\"quickchart('df-f3140e4f-7514-4060-a94d-b523771a6135')\"\n",
              "            title=\"Suggest charts.\"\n",
              "            style=\"display:none;\">\n",
              "\n",
              "<svg xmlns=\"http://www.w3.org/2000/svg\" height=\"24px\"viewBox=\"0 0 24 24\"\n",
              "     width=\"24px\">\n",
              "    <g>\n",
              "        <path d=\"M19 3H5c-1.1 0-2 .9-2 2v14c0 1.1.9 2 2 2h14c1.1 0 2-.9 2-2V5c0-1.1-.9-2-2-2zM9 17H7v-7h2v7zm4 0h-2V7h2v10zm4 0h-2v-4h2v4z\"/>\n",
              "    </g>\n",
              "</svg>\n",
              "  </button>\n",
              "\n",
              "<style>\n",
              "  .colab-df-quickchart {\n",
              "      --bg-color: #E8F0FE;\n",
              "      --fill-color: #1967D2;\n",
              "      --hover-bg-color: #E2EBFA;\n",
              "      --hover-fill-color: #174EA6;\n",
              "      --disabled-fill-color: #AAA;\n",
              "      --disabled-bg-color: #DDD;\n",
              "  }\n",
              "\n",
              "  [theme=dark] .colab-df-quickchart {\n",
              "      --bg-color: #3B4455;\n",
              "      --fill-color: #D2E3FC;\n",
              "      --hover-bg-color: #434B5C;\n",
              "      --hover-fill-color: #FFFFFF;\n",
              "      --disabled-bg-color: #3B4455;\n",
              "      --disabled-fill-color: #666;\n",
              "  }\n",
              "\n",
              "  .colab-df-quickchart {\n",
              "    background-color: var(--bg-color);\n",
              "    border: none;\n",
              "    border-radius: 50%;\n",
              "    cursor: pointer;\n",
              "    display: none;\n",
              "    fill: var(--fill-color);\n",
              "    height: 32px;\n",
              "    padding: 0;\n",
              "    width: 32px;\n",
              "  }\n",
              "\n",
              "  .colab-df-quickchart:hover {\n",
              "    background-color: var(--hover-bg-color);\n",
              "    box-shadow: 0 1px 2px rgba(60, 64, 67, 0.3), 0 1px 3px 1px rgba(60, 64, 67, 0.15);\n",
              "    fill: var(--button-hover-fill-color);\n",
              "  }\n",
              "\n",
              "  .colab-df-quickchart-complete:disabled,\n",
              "  .colab-df-quickchart-complete:disabled:hover {\n",
              "    background-color: var(--disabled-bg-color);\n",
              "    fill: var(--disabled-fill-color);\n",
              "    box-shadow: none;\n",
              "  }\n",
              "\n",
              "  .colab-df-spinner {\n",
              "    border: 2px solid var(--fill-color);\n",
              "    border-color: transparent;\n",
              "    border-bottom-color: var(--fill-color);\n",
              "    animation:\n",
              "      spin 1s steps(1) infinite;\n",
              "  }\n",
              "\n",
              "  @keyframes spin {\n",
              "    0% {\n",
              "      border-color: transparent;\n",
              "      border-bottom-color: var(--fill-color);\n",
              "      border-left-color: var(--fill-color);\n",
              "    }\n",
              "    20% {\n",
              "      border-color: transparent;\n",
              "      border-left-color: var(--fill-color);\n",
              "      border-top-color: var(--fill-color);\n",
              "    }\n",
              "    30% {\n",
              "      border-color: transparent;\n",
              "      border-left-color: var(--fill-color);\n",
              "      border-top-color: var(--fill-color);\n",
              "      border-right-color: var(--fill-color);\n",
              "    }\n",
              "    40% {\n",
              "      border-color: transparent;\n",
              "      border-right-color: var(--fill-color);\n",
              "      border-top-color: var(--fill-color);\n",
              "    }\n",
              "    60% {\n",
              "      border-color: transparent;\n",
              "      border-right-color: var(--fill-color);\n",
              "    }\n",
              "    80% {\n",
              "      border-color: transparent;\n",
              "      border-right-color: var(--fill-color);\n",
              "      border-bottom-color: var(--fill-color);\n",
              "    }\n",
              "    90% {\n",
              "      border-color: transparent;\n",
              "      border-bottom-color: var(--fill-color);\n",
              "    }\n",
              "  }\n",
              "</style>\n",
              "\n",
              "  <script>\n",
              "    async function quickchart(key) {\n",
              "      const quickchartButtonEl =\n",
              "        document.querySelector('#' + key + ' button');\n",
              "      quickchartButtonEl.disabled = true;  // To prevent multiple clicks.\n",
              "      quickchartButtonEl.classList.add('colab-df-spinner');\n",
              "      try {\n",
              "        const charts = await google.colab.kernel.invokeFunction(\n",
              "            'suggestCharts', [key], {});\n",
              "      } catch (error) {\n",
              "        console.error('Error during call to suggestCharts:', error);\n",
              "      }\n",
              "      quickchartButtonEl.classList.remove('colab-df-spinner');\n",
              "      quickchartButtonEl.classList.add('colab-df-quickchart-complete');\n",
              "    }\n",
              "    (() => {\n",
              "      let quickchartButtonEl =\n",
              "        document.querySelector('#df-f3140e4f-7514-4060-a94d-b523771a6135 button');\n",
              "      quickchartButtonEl.style.display =\n",
              "        google.colab.kernel.accessAllowed ? 'block' : 'none';\n",
              "    })();\n",
              "  </script>\n",
              "</div>\n",
              "    </div>\n",
              "  </div>\n"
            ]
          },
          "metadata": {},
          "execution_count": 32
        }
      ],
      "source": [
        "sub = submission.drop(columns=target_cols).merge(test[['sig_id']+target_cols], on='sig_id', how='left').fillna(0)\n",
        "sub.to_csv('submission.csv', index=False)\n",
        "sub.head()"
      ]
    },
    {
      "cell_type": "markdown",
      "metadata": {
        "id": "k0fN2o7Q3BIQ"
      },
      "source": [
        "PCA - CV -LR"
      ]
    },
    {
      "cell_type": "code",
      "execution_count": null,
      "metadata": {
        "id": "6WYpvN1jtBIF"
      },
      "outputs": [],
      "source": [
        "import pandas as pd\n",
        "import numpy as np\n",
        "from tqdm import tqdm\n",
        "from sklearn.preprocessing import StandardScaler\n",
        "from sklearn.decomposition import PCA\n",
        "from sklearn.model_selection import KFold\n",
        "from sklearn.linear_model import LogisticRegression"
      ]
    },
    {
      "cell_type": "code",
      "execution_count": null,
      "metadata": {
        "id": "cUk-BQxDvHFn"
      },
      "outputs": [],
      "source": [
        "s_submission = pd.read_csv('sample_submission.csv')"
      ]
    },
    {
      "cell_type": "code",
      "execution_count": null,
      "metadata": {
        "id": "hpdEOCPktiDU"
      },
      "outputs": [],
      "source": [
        "def average_log_loss(y_true, y_pred):\n",
        "    print(y_true.shape, y_pred.shape)\n",
        "    num_samples, num_outputs = y_true.shape\n",
        "    loss = 0.00\n",
        "    for i in range(num_outputs):\n",
        "        loss += log_loss(y_true[:, i], y_pred[:, i], labels=[0, 1])\n",
        "    loss /= num_outputs\n",
        "    return loss"
      ]
    },
    {
      "cell_type": "code",
      "execution_count": null,
      "metadata": {
        "id": "BYhBmRBIuZuJ"
      },
      "outputs": [],
      "source": [
        "def preprocess(df):\n",
        "    df = df.drop(columns=['sig_id'])\n",
        "    df.cp_dose = df.cp_dose.map({'D1': -1, 'D2': 1})\n",
        "    df.cp_time = df.cp_time.map({24: -1, 48: 0, 72: 1})\n",
        "    df.cp_type = df.cp_type.map({'trt_cp': -1, 'ctl_vehicle': 1})\n",
        "    return df"
      ]
    },
    {
      "cell_type": "code",
      "execution_count": null,
      "metadata": {
        "id": "jPjUQGDQudt1"
      },
      "outputs": [],
      "source": [
        "train_features = preprocess(train_features)\n",
        "train_targets_scored = train_targets_scored.drop(columns=['sig_id'])\n",
        "test_features = preprocess(test_features)\n",
        "\n",
        "targets_np = train_targets_scored.to_numpy()"
      ]
    },
    {
      "cell_type": "code",
      "execution_count": null,
      "metadata": {
        "colab": {
          "base_uri": "https://localhost:8080/"
        },
        "id": "kdiXwjUmugGd",
        "outputId": "7fdcd9b9-1604-4dc9-d6e6-ca5b03ad7cab"
      },
      "outputs": [
        {
          "output_type": "stream",
          "name": "stdout",
          "text": [
            "Shape after scaler and PCA (23814, 103)\n"
          ]
        }
      ],
      "source": [
        "g_cols = [col for col in train_features.columns if col.startswith('g-')]\n",
        "c_cols = [col for col in train_features.columns if col.startswith('c-')]\n",
        "cp_cols = [col for col in train_features.columns if col.startswith('cp_')]\n",
        "\n",
        "def scaler_and_PCA(pca_num_components, train, test):\n",
        "    data = np.concatenate((train, test), axis=0)\n",
        "    n = train.shape[0]\n",
        "\n",
        "    # variance threshold\n",
        "    selector = VarianceThreshold(threshold=0.8)\n",
        "    data = selector.fit_transform(data)\n",
        "\n",
        "    # scale\n",
        "    scaler = StandardScaler()\n",
        "    scaled_data = scaler.fit_transform(data)\n",
        "\n",
        "    # PCA\n",
        "    pca = PCA(pca_num_components)\n",
        "    pca_data = pca.fit_transform(scaled_data)\n",
        "\n",
        "    train_trans = pca_data[:n, :]\n",
        "    test_trans = pca_data[n:, :]\n",
        "\n",
        "    return train_trans, test_trans\n",
        "\n",
        "\n",
        "# For columns \"g-\"\n",
        "train_X_g = train_features[g_cols].to_numpy()\n",
        "test_X_g = test_features[g_cols].to_numpy()\n",
        "train_X_g, test_X_g = scaler_and_PCA(80, train_X_g, test_X_g)\n",
        "\n",
        "# For columns \"c-\"\n",
        "train_X_c = train_features[c_cols].to_numpy()\n",
        "test_X_c = test_features[c_cols].to_numpy()\n",
        "train_X_c, test_X_c = scaler_and_PCA(20, train_X_c, test_X_c)\n",
        "\n",
        "features_np = np.concatenate((train_features[cp_cols].to_numpy(), train_X_g, train_X_c), axis=1)\n",
        "test_np = np.concatenate((test_features[cp_cols].to_numpy(), test_X_g, test_X_c), axis=1)\n",
        "print('Shape after scaler and PCA', features_np.shape)"
      ]
    },
    {
      "cell_type": "code",
      "source": [
        "import numpy as np\n",
        "import matplotlib.pyplot as plt\n",
        "from sklearn.decomposition import PCA\n",
        "from sklearn.preprocessing import StandardScaler\n",
        "from sklearn.linear_model import LogisticRegression\n",
        "from sklearn.model_selection import KFold\n",
        "from tqdm import tqdm\n",
        "\n",
        "# Your existing code here\n",
        "\n",
        "best_model = None\n",
        "best_loss = 999999999999999999\n",
        "kf = KFold(n_splits=5)\n",
        "j = 1\n",
        "\n",
        "# Perform PCA\n",
        "X_scaled = StandardScaler().fit_transform(features_np)  # Standardize the features\n",
        "pca = PCA(n_components=2)  # You can change the number of components as needed\n",
        "principal_components = pca.fit_transform(X_scaled)\n",
        "\n",
        "# Visualize the principal components\n",
        "plt.figure(figsize=(8, 6))\n",
        "colors = ['b', 'g', 'r', 'c', 'm']\n",
        "for i, (train_indices, val_indices) in enumerate(kf.split(features_np)):\n",
        "    plt.scatter(\n",
        "        principal_components[val_indices, 0],\n",
        "        principal_components[val_indices, 1],\n",
        "        label=f'Fold {i + 1}',\n",
        "        color=colors[i]\n",
        "    )\n",
        "\n",
        "plt.xlabel('Principal Component 1')\n",
        "plt.ylabel('Principal Component 2')\n",
        "plt.title('PCA Visualization of Data')\n",
        "plt.legend()\n",
        "plt.show()\n",
        "\n",
        "for train_indices, val_indices in kf.split(features_np):\n",
        "    X_train, Y_train = features_np[train_indices, :], targets_np[train_indices, :]\n",
        "    X_val, Y_val = features_np[val_indices, :], targets_np[val_indices, :]\n",
        "\n",
        "    all_categories = list(train_targets_scored.columns)\n",
        "    model_dict = {}\n",
        "    print('FIT')\n",
        "    for i in tqdm(range(206)):\n",
        "        if Y_train[:, i].max() == 0:\n",
        "            # use last model\n",
        "            model_dict[all_categories[i]] = logistic_model\n",
        "        else:\n",
        "            logistic_model = LogisticRegression(C=0.1, max_iter=1000, class_weight={0: 0.4, 1: 0.6})\n",
        "            logistic_model.fit(X_train, Y_train[:, i])\n",
        "            # saving model\n",
        "            model_dict[all_categories[i]] = logistic_model\n",
        "    print('PREDICT')\n",
        "    Y_pred = np.zeros(Y_val.shape)\n",
        "    i = 0\n",
        "    for category in tqdm(all_categories):\n",
        "        Y_pred[:, i] = np.copy(model_dict[category].predict_proba(X_val)[:, 1])\n",
        "        i += 1\n",
        "    print('VALIDATE')\n",
        "    cur_loss = average_log_loss(Y_val, Y_pred)\n",
        "    print('Log_loss', j, cur_loss)\n",
        "    if cur_loss < best_loss:\n",
        "        best_model = model_dict\n",
        "        best_loss = cur_loss\n",
        "    j += 1\n",
        "\n",
        "print('Best loss is:', best_loss)\n"
      ],
      "metadata": {
        "colab": {
          "base_uri": "https://localhost:8080/",
          "height": 1000
        },
        "id": "kwnXw3iNxBUI",
        "outputId": "1db0afee-b99b-4a45-8fb7-94ead010bdb4"
      },
      "execution_count": null,
      "outputs": [
        {
          "output_type": "display_data",
          "data": {
            "text/plain": [
              "<Figure size 800x600 with 1 Axes>"
            ],
            "image/png": "[encoded data removed]"
          },
          "metadata": {}
        },
        {
          "output_type": "stream",
          "name": "stdout",
          "text": [
            "FIT\n"
          ]
        },
        {
          "output_type": "stream",
          "name": "stderr",
          "text": [
            "100%|██████████| 206/206 [01:40<00:00,  2.05it/s]\n"
          ]
        },
        {
          "output_type": "stream",
          "name": "stdout",
          "text": [
            "PREDICT\n"
          ]
        },
        {
          "output_type": "stream",
          "name": "stderr",
          "text": [
            "100%|██████████| 206/206 [00:00<00:00, 315.09it/s]\n"
          ]
        },
        {
          "output_type": "stream",
          "name": "stdout",
          "text": [
            "VALIDATE\n",
            "Log_loss 1 0.016449915457499104\n",
            "FIT\n"
          ]
        },
        {
          "output_type": "stream",
          "name": "stderr",
          "text": [
            "100%|██████████| 206/206 [01:30<00:00,  2.28it/s]\n"
          ]
        },
        {
          "output_type": "stream",
          "name": "stdout",
          "text": [
            "PREDICT\n"
          ]
        },
        {
          "output_type": "stream",
          "name": "stderr",
          "text": [
            "100%|██████████| 206/206 [00:00<00:00, 725.42it/s]\n"
          ]
        },
        {
          "output_type": "stream",
          "name": "stdout",
          "text": [
            "VALIDATE\n",
            "Log_loss 2 0.016667178604132426\n",
            "FIT\n"
          ]
        },
        {
          "output_type": "stream",
          "name": "stderr",
          "text": [
            "100%|██████████| 206/206 [01:20<00:00,  2.55it/s]\n"
          ]
        },
        {
          "output_type": "stream",
          "name": "stdout",
          "text": [
            "PREDICT\n"
          ]
        },
        {
          "output_type": "stream",
          "name": "stderr",
          "text": [
            "100%|██████████| 206/206 [00:00<00:00, 363.19it/s]\n"
          ]
        },
        {
          "output_type": "stream",
          "name": "stdout",
          "text": [
            "VALIDATE\n",
            "Log_loss 3 0.01653556808208745\n",
            "FIT\n"
          ]
        },
        {
          "output_type": "stream",
          "name": "stderr",
          "text": [
            "100%|██████████| 206/206 [01:22<00:00,  2.50it/s]\n"
          ]
        },
        {
          "output_type": "stream",
          "name": "stdout",
          "text": [
            "PREDICT\n"
          ]
        },
        {
          "output_type": "stream",
          "name": "stderr",
          "text": [
            "100%|██████████| 206/206 [00:00<00:00, 813.80it/s]\n"
          ]
        },
        {
          "output_type": "stream",
          "name": "stdout",
          "text": [
            "VALIDATE\n",
            "Log_loss 4 0.016689029118221996\n",
            "FIT\n"
          ]
        },
        {
          "output_type": "stream",
          "name": "stderr",
          "text": [
            "100%|██████████| 206/206 [01:11<00:00,  2.87it/s]\n"
          ]
        },
        {
          "output_type": "stream",
          "name": "stdout",
          "text": [
            "PREDICT\n"
          ]
        },
        {
          "output_type": "stream",
          "name": "stderr",
          "text": [
            "100%|██████████| 206/206 [00:00<00:00, 828.16it/s]\n"
          ]
        },
        {
          "output_type": "stream",
          "name": "stdout",
          "text": [
            "VALIDATE\n",
            "Log_loss 5 0.016767927191006192\n",
            "Best loss is: 0.016449915457499104\n"
          ]
        }
      ]
    },
    {
      "cell_type": "code",
      "source": [
        "import numpy as np\n",
        "import pandas as pd\n",
        "import matplotlib.pyplot as plt\n",
        "import seaborn as sns\n",
        "from sklearn.decomposition import PCA\n",
        "from sklearn.preprocessing import StandardScaler\n",
        "from sklearn.feature_selection import VarianceThreshold\n",
        "from sklearn.model_selection import KFold\n",
        "from sklearn.linear_model import LogisticRegression\n",
        "from sklearn.metrics import log_loss\n",
        "from tqdm import tqdm\n",
        "\n",
        "# Define average log loss function\n",
        "def average_log_loss(y_true, y_pred):\n",
        "    num_samples, num_outputs = y_true.shape\n",
        "    loss = 0.00\n",
        "    for i in range(num_outputs):\n",
        "        loss += log_loss(y_true[:, i], y_pred[:, i], labels=[0, 1])\n",
        "    loss /= num_outputs\n",
        "    return loss\n",
        "\n",
        "# Preprocess data\n",
        "def preprocess(df):\n",
        "    df = df.drop(columns=['sig_id'])\n",
        "    df.cp_dose = df.cp_dose.map({'D1': -1, 'D2': 1})\n",
        "    df.cp_time = df.cp_time.map({24: -1, 48: 0, 72: 1})\n",
        "    df.cp_type = df.cp_type.map({'trt_cp': -1, 'ctl_vehicle': 1})\n",
        "    return df\n",
        "\n",
        "# Feature selection, scaling, and PCA\n",
        "def scaler_and_PCA(pca_num_components, train, test):\n",
        "    data = np.concatenate((train, test), axis=0)\n",
        "    n = train.shape[0]\n",
        "\n",
        "    # Variance threshold\n",
        "    selector = VarianceThreshold(threshold=0.8)\n",
        "    data = selector.fit_transform(data)\n",
        "\n",
        "    # Scale\n",
        "    scaler = StandardScaler()\n",
        "    scaled_data = scaler.fit_transform(data)\n",
        "\n",
        "    # PCA\n",
        "    pca = PCA(n_components=pca_num_components)\n",
        "    pca_data = pca.fit_transform(scaled_data)\n",
        "\n",
        "    train_trans = pca_data[:n, :]\n",
        "    test_trans = pca_data[n:, :]\n",
        "\n",
        "    return train_trans, test_trans\n",
        "s\n",
        "# Initialize lists to store log loss values for each fold\n",
        "log_loss_values = []\n",
        "\n",
        "# Initialize variables for the best model and best loss\n",
        "best_model = None\n",
        "best_loss = 999999999999999999\n",
        "\n",
        "kf = KFold(n_splits=5)\n",
        "j = 1\n",
        "for train_indices, val_indices in kf.split(features_np):\n",
        "    X_train, Y_train = features_np[train_indices, :], targets_np[train_indices, :]\n",
        "    X_val, Y_val = features_np[val_indices, :], targets_np[val_indices, :]\n",
        "\n",
        "    all_categories = list(train_targets_scored.columns)\n",
        "    model_dict = {}\n",
        "    print('FIT')\n",
        "    for i in tqdm(range(206)):\n",
        "        if Y_train[:, i].max() == 0:\n",
        "            # Use the last model\n",
        "            model_dict[all_categories[i]] = logistic_model\n",
        "        else:\n",
        "            logistic_model = LogisticRegression(C=0.1, max_iter=1000, class_weight={0: 0.4, 1: 0.6})\n",
        "            logistic_model.fit(X_train, Y_train[:, i])\n",
        "            # Save the model\n",
        "            model_dict[all_categories[i]] = logistic_model\n",
        "    print('PREDICT')\n",
        "    Y_pred = np.zeros(Y_val.shape)\n",
        "    i = 0\n",
        "    for category in tqdm(all_categories):\n",
        "        Y_pred[:, i] = np.copy(model_dict[category].predict_proba(X_val)[:, 1])\n",
        "        i += 1\n",
        "    print('VALIDATE')\n",
        "    cur_loss = average_log_loss(Y_val, Y_pred)\n",
        "    print('Log_loss', j, cur_loss)\n",
        "    log_loss_values.append(cur_loss)\n",
        "    if cur_loss < best_loss:\n",
        "        best_model = model_dict\n",
        "        best_loss = cur_loss\n",
        "    j += 1\n",
        "\n",
        "# Plot log loss for each fold\n",
        "plt.figure(figsize=(10, 6))\n",
        "plt.plot(range(1, j), log_loss_values, marker='o', linestyle='--')\n",
        "plt.title('Log Loss for Each Fold of Cross-Validation')\n",
        "plt.xlabel('Fold')\n",
        "plt.ylabel('Log Loss')\n",
        "plt.grid()\n",
        "plt.show()\n",
        "\n",
        "print('Best loss is:', best_loss)\n",
        "\n",
        "\n"
      ],
      "metadata": {
        "colab": {
          "base_uri": "https://localhost:8080/",
          "height": 1000
        },
        "id": "euvzjsdJccob",
        "outputId": "aa4dc3ac-b5cd-4d87-f80d-c574660271ed"
      },
      "execution_count": null,
      "outputs": [
        {
          "output_type": "stream",
          "name": "stdout",
          "text": [
            "FIT\n"
          ]
        },
        {
          "output_type": "stream",
          "name": "stderr",
          "text": [
            "100%|██████████| 206/206 [01:18<00:00,  2.63it/s]\n"
          ]
        },
        {
          "output_type": "stream",
          "name": "stdout",
          "text": [
            "PREDICT\n"
          ]
        },
        {
          "output_type": "stream",
          "name": "stderr",
          "text": [
            "100%|██████████| 206/206 [00:00<00:00, 723.85it/s]\n"
          ]
        },
        {
          "output_type": "stream",
          "name": "stdout",
          "text": [
            "VALIDATE\n",
            "Log_loss 1 0.016449915457499104\n",
            "FIT\n"
          ]
        },
        {
          "output_type": "stream",
          "name": "stderr",
          "text": [
            "100%|██████████| 206/206 [01:20<00:00,  2.55it/s]\n"
          ]
        },
        {
          "output_type": "stream",
          "name": "stdout",
          "text": [
            "PREDICT\n"
          ]
        },
        {
          "output_type": "stream",
          "name": "stderr",
          "text": [
            "100%|██████████| 206/206 [00:00<00:00, 836.70it/s]\n"
          ]
        },
        {
          "output_type": "stream",
          "name": "stdout",
          "text": [
            "VALIDATE\n",
            "Log_loss 2 0.016667178604132426\n",
            "FIT\n"
          ]
        },
        {
          "output_type": "stream",
          "name": "stderr",
          "text": [
            "100%|██████████| 206/206 [01:19<00:00,  2.59it/s]\n"
          ]
        },
        {
          "output_type": "stream",
          "name": "stdout",
          "text": [
            "PREDICT\n"
          ]
        },
        {
          "output_type": "stream",
          "name": "stderr",
          "text": [
            "100%|██████████| 206/206 [00:00<00:00, 805.41it/s]\n"
          ]
        },
        {
          "output_type": "stream",
          "name": "stdout",
          "text": [
            "VALIDATE\n",
            "Log_loss 3 0.01653556808208745\n",
            "FIT\n"
          ]
        },
        {
          "output_type": "stream",
          "name": "stderr",
          "text": [
            "100%|██████████| 206/206 [01:32<00:00,  2.22it/s]\n"
          ]
        },
        {
          "output_type": "stream",
          "name": "stdout",
          "text": [
            "PREDICT\n"
          ]
        },
        {
          "output_type": "stream",
          "name": "stderr",
          "text": [
            "100%|██████████| 206/206 [00:00<00:00, 791.27it/s]\n"
          ]
        },
        {
          "output_type": "stream",
          "name": "stdout",
          "text": [
            "VALIDATE\n",
            "Log_loss 4 0.016689029118221996\n",
            "FIT\n"
          ]
        },
        {
          "output_type": "stream",
          "name": "stderr",
          "text": [
            "100%|██████████| 206/206 [01:18<00:00,  2.62it/s]\n"
          ]
        },
        {
          "output_type": "stream",
          "name": "stdout",
          "text": [
            "PREDICT\n"
          ]
        },
        {
          "output_type": "stream",
          "name": "stderr",
          "text": [
            "100%|██████████| 206/206 [00:00<00:00, 867.60it/s]\n"
          ]
        },
        {
          "output_type": "stream",
          "name": "stdout",
          "text": [
            "VALIDATE\n",
            "Log_loss 5 0.016767927191006192\n"
          ]
        },
        {
          "output_type": "display_data",
          "data": {
            "text/plain": [
              "<Figure size 1000x600 with 1 Axes>"
            ],
            "image/png": "[encoded data removed]"
          },
          "metadata": {}
        },
        {
          "output_type": "stream",
          "name": "stdout",
          "text": [
            "Best loss is: 0.016449915457499104\n"
          ]
        }
      ]
    },
    {
      "cell_type": "code",
      "execution_count": null,
      "metadata": {
        "colab": {
          "base_uri": "https://localhost:8080/"
        },
        "id": "cKhjVZYdupKc",
        "outputId": "52dee899-ef01-4fb4-c26a-c1979675a3e8"
      },
      "outputs": [
        {
          "name": "stdout",
          "output_type": "stream",
          "text": [
            "FIT\n"
          ]
        },
        {
          "name": "stderr",
          "output_type": "stream",
          "text": [
            "100%|██████████| 206/206 [01:23<00:00,  2.46it/s]\n"
          ]
        },
        {
          "name": "stdout",
          "output_type": "stream",
          "text": [
            "PREDICT\n"
          ]
        },
        {
          "name": "stderr",
          "output_type": "stream",
          "text": [
            "100%|██████████| 206/206 [00:00<00:00, 1091.01it/s]\n"
          ]
        },
        {
          "name": "stdout",
          "output_type": "stream",
          "text": [
            "VALIDATE\n",
            "(4763, 206) (4763, 206)\n",
            "Log_loss 1 0.016449915457499104\n",
            "FIT\n"
          ]
        },
        {
          "name": "stderr",
          "output_type": "stream",
          "text": [
            "100%|██████████| 206/206 [01:01<00:00,  3.35it/s]\n"
          ]
        },
        {
          "name": "stdout",
          "output_type": "stream",
          "text": [
            "PREDICT\n"
          ]
        },
        {
          "name": "stderr",
          "output_type": "stream",
          "text": [
            "100%|██████████| 206/206 [00:00<00:00, 783.30it/s]\n"
          ]
        },
        {
          "name": "stdout",
          "output_type": "stream",
          "text": [
            "VALIDATE\n",
            "(4763, 206) (4763, 206)\n",
            "Log_loss 2 0.016667178604132426\n",
            "FIT\n"
          ]
        },
        {
          "name": "stderr",
          "output_type": "stream",
          "text": [
            "100%|██████████| 206/206 [01:08<00:00,  3.02it/s]\n"
          ]
        },
        {
          "name": "stdout",
          "output_type": "stream",
          "text": [
            "PREDICT\n"
          ]
        },
        {
          "name": "stderr",
          "output_type": "stream",
          "text": [
            "100%|██████████| 206/206 [00:00<00:00, 1098.56it/s]\n"
          ]
        },
        {
          "name": "stdout",
          "output_type": "stream",
          "text": [
            "VALIDATE\n",
            "(4763, 206) (4763, 206)\n",
            "Log_loss 3 0.01653556808208745\n",
            "FIT\n"
          ]
        },
        {
          "name": "stderr",
          "output_type": "stream",
          "text": [
            "100%|██████████| 206/206 [00:56<00:00,  3.63it/s]\n"
          ]
        },
        {
          "name": "stdout",
          "output_type": "stream",
          "text": [
            "PREDICT\n"
          ]
        },
        {
          "name": "stderr",
          "output_type": "stream",
          "text": [
            "100%|██████████| 206/206 [00:00<00:00, 813.58it/s]\n"
          ]
        },
        {
          "name": "stdout",
          "output_type": "stream",
          "text": [
            "VALIDATE\n",
            "(4763, 206) (4763, 206)\n",
            "Log_loss 4 0.016689029118221996\n",
            "FIT\n"
          ]
        },
        {
          "name": "stderr",
          "output_type": "stream",
          "text": [
            "100%|██████████| 206/206 [00:50<00:00,  4.06it/s]\n"
          ]
        },
        {
          "name": "stdout",
          "output_type": "stream",
          "text": [
            "PREDICT\n"
          ]
        },
        {
          "name": "stderr",
          "output_type": "stream",
          "text": [
            "100%|██████████| 206/206 [00:00<00:00, 938.41it/s]\n"
          ]
        },
        {
          "name": "stdout",
          "output_type": "stream",
          "text": [
            "VALIDATE\n",
            "(4762, 206) (4762, 206)\n",
            "Log_loss 5 0.016767927191006192\n",
            "Best loss is: 0.016449915457499104\n"
          ]
        }
      ],
      "source": [
        "best_model = None\n",
        "best_loss = 999999999999999999\n",
        "kf = KFold(n_splits=5)\n",
        "j = 1\n",
        "for train_indices, val_indices in kf.split(features_np):\n",
        "    X_train, Y_train = features_np[train_indices, :], targets_np[train_indices, :]\n",
        "    X_val, Y_val = features_np[val_indices, :], targets_np[val_indices, :]\n",
        "\n",
        "    all_categories = list(train_targets_scored.columns)\n",
        "    model_dict = {}\n",
        "    print('FIT')\n",
        "    for i in tqdm(range(206)):\n",
        "        if Y_train[:, i].max() == 0:\n",
        "            # use last model\n",
        "            model_dict[all_categories[i]] = logistic_model\n",
        "        else:\n",
        "            logistic_model = LogisticRegression(C=0.1, max_iter=1000, class_weight={0: 0.4, 1: 0.6})\n",
        "            logistic_model.fit(X_train, Y_train[:, i])\n",
        "            # saving model\n",
        "            model_dict[all_categories[i]] = logistic_model\n",
        "    print('PREDICT')\n",
        "    Y_pred = np.zeros(Y_val.shape)\n",
        "    i = 0\n",
        "    for category in tqdm(all_categories):\n",
        "        Y_pred[:, i] = np.copy(model_dict[category].predict_proba(X_val)[:, 1])\n",
        "        i += 1\n",
        "    print('VALIDATE')\n",
        "    cur_loss = average_log_loss(Y_val, Y_pred)\n",
        "    print('Log_loss', j, cur_loss)\n",
        "    if cur_loss < best_loss:\n",
        "        best_model = model_dict\n",
        "        best_loss = cur_loss\n",
        "    j += 1\n",
        "\n",
        "print('Best loss is:', best_loss)"
      ]
    },
    {
      "cell_type": "code",
      "execution_count": null,
      "metadata": {
        "colab": {
          "base_uri": "https://localhost:8080/"
        },
        "id": "uj4XZBUAu47G",
        "outputId": "2ee5fb5b-1fae-4820-c577-6b52838a605f"
      },
      "outputs": [
        {
          "name": "stdout",
          "output_type": "stream",
          "text": [
            "PREDICT RESULT\n"
          ]
        },
        {
          "name": "stderr",
          "output_type": "stream",
          "text": [
            "100%|██████████| 206/206 [00:00<00:00, 813.04it/s]\n"
          ]
        }
      ],
      "source": [
        "Y_res = s_submission.drop(columns=['sig_id']).to_numpy()\n",
        "i = 0\n",
        "all_categories = list(train_targets_scored.columns)\n",
        "print('PREDICT RESULT')\n",
        "for category in tqdm(all_categories):\n",
        "    Y_res[:, i] = np.copy(best_model[category].predict_proba(test_np)[:, 1])\n",
        "    i += 1\n",
        "# POSTPROCESS\n",
        "for i in range(test_np.shape[0]):\n",
        "    if test_np[i][0] == 1:\n",
        "        Y_res[i, :] = np.zeros(Y_res.shape[1])\n",
        "s_res = pd.DataFrame(Y_res, columns=all_categories)\n",
        "s_res = pd.concat([s_submission['sig_id'], s_res], axis=1)\n",
        "s_res.to_csv('submission.csv', index=False)"
      ]
    }
  ],
  "metadata": {
    "colab": {
      "provenance": [],
      "include_colab_link": true
    },
    "kernelspec": {
      "display_name": "Python 3",
      "name": "python3"
    },
    "language_info": {
      "name": "python"
    }
  },
  "nbformat": 4,
  "nbformat_minor": 0
}